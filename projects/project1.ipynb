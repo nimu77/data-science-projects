{
  "nbformat": 4,
  "nbformat_minor": 0,
  "metadata": {
    "colab": {
      "name": "project2.ipynb",
      "provenance": [],
      "collapsed_sections": [],
      "authorship_tag": "ABX9TyN1zEtgeXJKDnoGmYkG84bm",
      "include_colab_link": true
    },
    "kernelspec": {
      "name": "python3",
      "display_name": "Python 3"
    }
  },
  "cells": [
    {
      "cell_type": "markdown",
      "metadata": {
        "id": "view-in-github",
        "colab_type": "text"
      },
      "source": [
        "<a href=\"https://colab.research.google.com/github/nimu77/data-science-projects/blob/master/projects/project1.ipynb\" target=\"_parent\"><img src=\"https://colab.research.google.com/assets/colab-badge.svg\" alt=\"Open In Colab\"/></a>"
      ]
    },
    {
      "cell_type": "code",
      "metadata": {
        "id": "bOJQx0LOE6yM",
        "colab_type": "code",
        "outputId": "3a222186-18fb-4c10-b0a6-58ccf7eb4768",
        "colab": {
          "base_uri": "https://localhost:8080/",
          "height": 51
        }
      },
      "source": [
        "import pandas as pd\n",
        "import numpy as np\n",
        "import seaborn as sns\n",
        "import scipy\n",
        "import matplotlib.pyplot as plt"
      ],
      "execution_count": 1,
      "outputs": [
        {
          "output_type": "stream",
          "text": [
            "/usr/local/lib/python3.6/dist-packages/statsmodels/tools/_testing.py:19: FutureWarning: pandas.util.testing is deprecated. Use the functions in the public API at pandas.testing instead.\n",
            "  import pandas.util.testing as tm\n"
          ],
          "name": "stderr"
        }
      ]
    },
    {
      "cell_type": "markdown",
      "metadata": {
        "id": "W-AgTvkGFxa0",
        "colab_type": "text"
      },
      "source": [
        "# Uploading the first dataset"
      ]
    },
    {
      "cell_type": "code",
      "metadata": {
        "id": "LLOLw9IQFUbD",
        "colab_type": "code",
        "outputId": "997812d4-6d48-4d54-a07b-174aa766880b",
        "colab": {
          "base_uri": "https://localhost:8080/",
          "height": 221
        }
      },
      "source": [
        "top100 = pd.read_csv('forbes100_2018_athlets.csv')\n",
        "print(top100.shape)\n",
        "top100.head()"
      ],
      "execution_count": 2,
      "outputs": [
        {
          "output_type": "stream",
          "text": [
            "(100, 7)\n"
          ],
          "name": "stdout"
        },
        {
          "output_type": "execute_result",
          "data": {
            "text/html": [
              "<div>\n",
              "<style scoped>\n",
              "    .dataframe tbody tr th:only-of-type {\n",
              "        vertical-align: middle;\n",
              "    }\n",
              "\n",
              "    .dataframe tbody tr th {\n",
              "        vertical-align: top;\n",
              "    }\n",
              "\n",
              "    .dataframe thead th {\n",
              "        text-align: right;\n",
              "    }\n",
              "</style>\n",
              "<table border=\"1\" class=\"dataframe\">\n",
              "  <thead>\n",
              "    <tr style=\"text-align: right;\">\n",
              "      <th></th>\n",
              "      <th>Rank</th>\n",
              "      <th>Name</th>\n",
              "      <th>Pay</th>\n",
              "      <th>Salary/Winnings</th>\n",
              "      <th>Endorsements</th>\n",
              "      <th>Sport</th>\n",
              "      <th>Gender</th>\n",
              "    </tr>\n",
              "  </thead>\n",
              "  <tbody>\n",
              "    <tr>\n",
              "      <th>0</th>\n",
              "      <td>#1</td>\n",
              "      <td>Floyd Mayweather</td>\n",
              "      <td>$285 M</td>\n",
              "      <td>$275 M</td>\n",
              "      <td>$10 M</td>\n",
              "      <td>Boxing</td>\n",
              "      <td>M</td>\n",
              "    </tr>\n",
              "    <tr>\n",
              "      <th>1</th>\n",
              "      <td>#2</td>\n",
              "      <td>Lionel Messi</td>\n",
              "      <td>$111 M</td>\n",
              "      <td>$84 M</td>\n",
              "      <td>$27 M</td>\n",
              "      <td>Soccer</td>\n",
              "      <td>M</td>\n",
              "    </tr>\n",
              "    <tr>\n",
              "      <th>2</th>\n",
              "      <td>#3</td>\n",
              "      <td>Cristiano Ronaldo</td>\n",
              "      <td>$108 M</td>\n",
              "      <td>$61 M</td>\n",
              "      <td>$47 M</td>\n",
              "      <td>Soccer</td>\n",
              "      <td>M</td>\n",
              "    </tr>\n",
              "    <tr>\n",
              "      <th>3</th>\n",
              "      <td>#4</td>\n",
              "      <td>Conor McGregor</td>\n",
              "      <td>$99 M</td>\n",
              "      <td>$85 M</td>\n",
              "      <td>$14 M</td>\n",
              "      <td>Mixed Martial Arts</td>\n",
              "      <td>M</td>\n",
              "    </tr>\n",
              "    <tr>\n",
              "      <th>4</th>\n",
              "      <td>#5</td>\n",
              "      <td>Neymar</td>\n",
              "      <td>$90 M</td>\n",
              "      <td>$73 M</td>\n",
              "      <td>$17 M</td>\n",
              "      <td>Soccer</td>\n",
              "      <td>M</td>\n",
              "    </tr>\n",
              "  </tbody>\n",
              "</table>\n",
              "</div>"
            ],
            "text/plain": [
              "  Rank               Name     Pay  ... Endorsements               Sport Gender \n",
              "0   #1   Floyd Mayweather  $285 M  ...        $10 M              Boxing       M\n",
              "1   #2       Lionel Messi  $111 M  ...        $27 M              Soccer       M\n",
              "2   #3  Cristiano Ronaldo  $108 M  ...        $47 M              Soccer       M\n",
              "3   #4     Conor McGregor   $99 M  ...        $14 M  Mixed Martial Arts       M\n",
              "4   #5             Neymar   $90 M  ...        $17 M              Soccer       M\n",
              "\n",
              "[5 rows x 7 columns]"
            ]
          },
          "metadata": {
            "tags": []
          },
          "execution_count": 2
        }
      ]
    },
    {
      "cell_type": "code",
      "metadata": {
        "id": "ILtabUGqZY8v",
        "colab_type": "code",
        "outputId": "a320dc62-cfe8-4555-f664-200362248fd6",
        "colab": {
          "base_uri": "https://localhost:8080/",
          "height": 204
        }
      },
      "source": [
        "top100.tail()"
      ],
      "execution_count": 3,
      "outputs": [
        {
          "output_type": "execute_result",
          "data": {
            "text/html": [
              "<div>\n",
              "<style scoped>\n",
              "    .dataframe tbody tr th:only-of-type {\n",
              "        vertical-align: middle;\n",
              "    }\n",
              "\n",
              "    .dataframe tbody tr th {\n",
              "        vertical-align: top;\n",
              "    }\n",
              "\n",
              "    .dataframe thead th {\n",
              "        text-align: right;\n",
              "    }\n",
              "</style>\n",
              "<table border=\"1\" class=\"dataframe\">\n",
              "  <thead>\n",
              "    <tr style=\"text-align: right;\">\n",
              "      <th></th>\n",
              "      <th>Rank</th>\n",
              "      <th>Name</th>\n",
              "      <th>Pay</th>\n",
              "      <th>Salary/Winnings</th>\n",
              "      <th>Endorsements</th>\n",
              "      <th>Sport</th>\n",
              "      <th>Gender</th>\n",
              "    </tr>\n",
              "  </thead>\n",
              "  <tbody>\n",
              "    <tr>\n",
              "      <th>95</th>\n",
              "      <td>#95</td>\n",
              "      <td>Robinson Cano</td>\n",
              "      <td>$23.1 M</td>\n",
              "      <td>$22.1 M</td>\n",
              "      <td>$1 M</td>\n",
              "      <td>Baseball</td>\n",
              "      <td>M</td>\n",
              "    </tr>\n",
              "    <tr>\n",
              "      <th>96</th>\n",
              "      <td>#95</td>\n",
              "      <td>Brook Lopez</td>\n",
              "      <td>$23.1 M</td>\n",
              "      <td>$22.6 M</td>\n",
              "      <td>$500 K</td>\n",
              "      <td>Basketball</td>\n",
              "      <td>M</td>\n",
              "    </tr>\n",
              "    <tr>\n",
              "      <th>97</th>\n",
              "      <td>#95</td>\n",
              "      <td>Masahiro Tanaka</td>\n",
              "      <td>$23.1 M</td>\n",
              "      <td>$22.1 M</td>\n",
              "      <td>$1 M</td>\n",
              "      <td>Baseball</td>\n",
              "      <td>M</td>\n",
              "    </tr>\n",
              "    <tr>\n",
              "      <th>98</th>\n",
              "      <td>#99</td>\n",
              "      <td>Melvin Ingram</td>\n",
              "      <td>$23 M</td>\n",
              "      <td>$22.8 M</td>\n",
              "      <td>$150 K</td>\n",
              "      <td>Football</td>\n",
              "      <td>M</td>\n",
              "    </tr>\n",
              "    <tr>\n",
              "      <th>99</th>\n",
              "      <td>#100</td>\n",
              "      <td>Nicolas Batum</td>\n",
              "      <td>$22.9 M</td>\n",
              "      <td>$22.4 M</td>\n",
              "      <td>$500 K</td>\n",
              "      <td>Basketball</td>\n",
              "      <td>M</td>\n",
              "    </tr>\n",
              "  </tbody>\n",
              "</table>\n",
              "</div>"
            ],
            "text/plain": [
              "    Rank             Name      Pay  ... Endorsements       Sport Gender \n",
              "95   #95    Robinson Cano  $23.1 M  ...         $1 M    Baseball       M\n",
              "96   #95      Brook Lopez  $23.1 M  ...       $500 K  Basketball       M\n",
              "97   #95  Masahiro Tanaka  $23.1 M  ...         $1 M    Baseball       M\n",
              "98   #99    Melvin Ingram    $23 M  ...       $150 K    Football       M\n",
              "99  #100    Nicolas Batum  $22.9 M  ...       $500 K  Basketball       M\n",
              "\n",
              "[5 rows x 7 columns]"
            ]
          },
          "metadata": {
            "tags": []
          },
          "execution_count": 3
        }
      ]
    },
    {
      "cell_type": "markdown",
      "metadata": {
        "id": "jwhLVIKHF1eE",
        "colab_type": "text"
      },
      "source": [
        "# Checking their datatypes"
      ]
    },
    {
      "cell_type": "code",
      "metadata": {
        "id": "-L38SQLGFp4P",
        "colab_type": "code",
        "outputId": "e3b5db07-46b5-4d54-fbb9-5874e6181407",
        "colab": {
          "base_uri": "https://localhost:8080/",
          "height": 153
        }
      },
      "source": [
        "top100.dtypes"
      ],
      "execution_count": 4,
      "outputs": [
        {
          "output_type": "execute_result",
          "data": {
            "text/plain": [
              "Rank               object\n",
              "Name               object\n",
              "Pay                object\n",
              "Salary/Winnings    object\n",
              "Endorsements       object\n",
              "Sport              object\n",
              "Gender             object\n",
              "dtype: object"
            ]
          },
          "metadata": {
            "tags": []
          },
          "execution_count": 4
        }
      ]
    },
    {
      "cell_type": "code",
      "metadata": {
        "id": "pXwB0A6yFros",
        "colab_type": "code",
        "outputId": "63ac8eba-88ec-4254-cda9-aebb18a802cf",
        "colab": {
          "base_uri": "https://localhost:8080/",
          "height": 255
        }
      },
      "source": [
        "top100.info()"
      ],
      "execution_count": 5,
      "outputs": [
        {
          "output_type": "stream",
          "text": [
            "<class 'pandas.core.frame.DataFrame'>\n",
            "RangeIndex: 100 entries, 0 to 99\n",
            "Data columns (total 7 columns):\n",
            " #   Column           Non-Null Count  Dtype \n",
            "---  ------           --------------  ----- \n",
            " 0   Rank             100 non-null    object\n",
            " 1   Name             100 non-null    object\n",
            " 2   Pay              100 non-null    object\n",
            " 3   Salary/Winnings  100 non-null    object\n",
            " 4   Endorsements     100 non-null    object\n",
            " 5   Sport            100 non-null    object\n",
            " 6   Gender           100 non-null    object\n",
            "dtypes: object(7)\n",
            "memory usage: 5.6+ KB\n"
          ],
          "name": "stdout"
        }
      ]
    },
    {
      "cell_type": "markdown",
      "metadata": {
        "id": "ku18-v7IF5h8",
        "colab_type": "text"
      },
      "source": [
        "# Replacing extra characters from the values of attributes and also changing the data types some of the attributes"
      ]
    },
    {
      "cell_type": "code",
      "metadata": {
        "id": "Xt5bFiAsFtkX",
        "colab_type": "code",
        "outputId": "d558e266-e5af-41ff-b99e-fca086a36875",
        "colab": {
          "base_uri": "https://localhost:8080/",
          "height": 204
        }
      },
      "source": [
        "top100['Rank'] = top100['Rank'].str.replace('#', '')\n",
        "top100.head()"
      ],
      "execution_count": 6,
      "outputs": [
        {
          "output_type": "execute_result",
          "data": {
            "text/html": [
              "<div>\n",
              "<style scoped>\n",
              "    .dataframe tbody tr th:only-of-type {\n",
              "        vertical-align: middle;\n",
              "    }\n",
              "\n",
              "    .dataframe tbody tr th {\n",
              "        vertical-align: top;\n",
              "    }\n",
              "\n",
              "    .dataframe thead th {\n",
              "        text-align: right;\n",
              "    }\n",
              "</style>\n",
              "<table border=\"1\" class=\"dataframe\">\n",
              "  <thead>\n",
              "    <tr style=\"text-align: right;\">\n",
              "      <th></th>\n",
              "      <th>Rank</th>\n",
              "      <th>Name</th>\n",
              "      <th>Pay</th>\n",
              "      <th>Salary/Winnings</th>\n",
              "      <th>Endorsements</th>\n",
              "      <th>Sport</th>\n",
              "      <th>Gender</th>\n",
              "    </tr>\n",
              "  </thead>\n",
              "  <tbody>\n",
              "    <tr>\n",
              "      <th>0</th>\n",
              "      <td>1</td>\n",
              "      <td>Floyd Mayweather</td>\n",
              "      <td>$285 M</td>\n",
              "      <td>$275 M</td>\n",
              "      <td>$10 M</td>\n",
              "      <td>Boxing</td>\n",
              "      <td>M</td>\n",
              "    </tr>\n",
              "    <tr>\n",
              "      <th>1</th>\n",
              "      <td>2</td>\n",
              "      <td>Lionel Messi</td>\n",
              "      <td>$111 M</td>\n",
              "      <td>$84 M</td>\n",
              "      <td>$27 M</td>\n",
              "      <td>Soccer</td>\n",
              "      <td>M</td>\n",
              "    </tr>\n",
              "    <tr>\n",
              "      <th>2</th>\n",
              "      <td>3</td>\n",
              "      <td>Cristiano Ronaldo</td>\n",
              "      <td>$108 M</td>\n",
              "      <td>$61 M</td>\n",
              "      <td>$47 M</td>\n",
              "      <td>Soccer</td>\n",
              "      <td>M</td>\n",
              "    </tr>\n",
              "    <tr>\n",
              "      <th>3</th>\n",
              "      <td>4</td>\n",
              "      <td>Conor McGregor</td>\n",
              "      <td>$99 M</td>\n",
              "      <td>$85 M</td>\n",
              "      <td>$14 M</td>\n",
              "      <td>Mixed Martial Arts</td>\n",
              "      <td>M</td>\n",
              "    </tr>\n",
              "    <tr>\n",
              "      <th>4</th>\n",
              "      <td>5</td>\n",
              "      <td>Neymar</td>\n",
              "      <td>$90 M</td>\n",
              "      <td>$73 M</td>\n",
              "      <td>$17 M</td>\n",
              "      <td>Soccer</td>\n",
              "      <td>M</td>\n",
              "    </tr>\n",
              "  </tbody>\n",
              "</table>\n",
              "</div>"
            ],
            "text/plain": [
              "  Rank               Name     Pay  ... Endorsements               Sport Gender \n",
              "0    1   Floyd Mayweather  $285 M  ...        $10 M              Boxing       M\n",
              "1    2       Lionel Messi  $111 M  ...        $27 M              Soccer       M\n",
              "2    3  Cristiano Ronaldo  $108 M  ...        $47 M              Soccer       M\n",
              "3    4     Conor McGregor   $99 M  ...        $14 M  Mixed Martial Arts       M\n",
              "4    5             Neymar   $90 M  ...        $17 M              Soccer       M\n",
              "\n",
              "[5 rows x 7 columns]"
            ]
          },
          "metadata": {
            "tags": []
          },
          "execution_count": 6
        }
      ]
    },
    {
      "cell_type": "code",
      "metadata": {
        "id": "M6XXwR0oGEUx",
        "colab_type": "code",
        "outputId": "4f065455-0ea3-4c85-e054-67e303e3b135",
        "colab": {
          "base_uri": "https://localhost:8080/",
          "height": 34
        }
      },
      "source": [
        "# checking first value of attribute Pay\n",
        "top100['Pay'][0]"
      ],
      "execution_count": 7,
      "outputs": [
        {
          "output_type": "execute_result",
          "data": {
            "text/plain": [
              "'$285 M'"
            ]
          },
          "metadata": {
            "tags": []
          },
          "execution_count": 7
        }
      ]
    },
    {
      "cell_type": "code",
      "metadata": {
        "id": "NGdlrg3CGvfA",
        "colab_type": "code",
        "colab": {}
      },
      "source": [
        "# removing first character $\n",
        "top100['Pay'] = top100['Pay'].str.replace('$', '')"
      ],
      "execution_count": 0,
      "outputs": []
    },
    {
      "cell_type": "code",
      "metadata": {
        "id": "_b09gRYtHwqI",
        "colab_type": "code",
        "outputId": "cef8afea-88ed-423e-a2d2-2344ed15d5ee",
        "colab": {
          "base_uri": "https://localhost:8080/",
          "height": 204
        }
      },
      "source": [
        "# checking to see if ($) has been removed from the column Pay\n",
        "top100.head()"
      ],
      "execution_count": 9,
      "outputs": [
        {
          "output_type": "execute_result",
          "data": {
            "text/html": [
              "<div>\n",
              "<style scoped>\n",
              "    .dataframe tbody tr th:only-of-type {\n",
              "        vertical-align: middle;\n",
              "    }\n",
              "\n",
              "    .dataframe tbody tr th {\n",
              "        vertical-align: top;\n",
              "    }\n",
              "\n",
              "    .dataframe thead th {\n",
              "        text-align: right;\n",
              "    }\n",
              "</style>\n",
              "<table border=\"1\" class=\"dataframe\">\n",
              "  <thead>\n",
              "    <tr style=\"text-align: right;\">\n",
              "      <th></th>\n",
              "      <th>Rank</th>\n",
              "      <th>Name</th>\n",
              "      <th>Pay</th>\n",
              "      <th>Salary/Winnings</th>\n",
              "      <th>Endorsements</th>\n",
              "      <th>Sport</th>\n",
              "      <th>Gender</th>\n",
              "    </tr>\n",
              "  </thead>\n",
              "  <tbody>\n",
              "    <tr>\n",
              "      <th>0</th>\n",
              "      <td>1</td>\n",
              "      <td>Floyd Mayweather</td>\n",
              "      <td>285 M</td>\n",
              "      <td>$275 M</td>\n",
              "      <td>$10 M</td>\n",
              "      <td>Boxing</td>\n",
              "      <td>M</td>\n",
              "    </tr>\n",
              "    <tr>\n",
              "      <th>1</th>\n",
              "      <td>2</td>\n",
              "      <td>Lionel Messi</td>\n",
              "      <td>111 M</td>\n",
              "      <td>$84 M</td>\n",
              "      <td>$27 M</td>\n",
              "      <td>Soccer</td>\n",
              "      <td>M</td>\n",
              "    </tr>\n",
              "    <tr>\n",
              "      <th>2</th>\n",
              "      <td>3</td>\n",
              "      <td>Cristiano Ronaldo</td>\n",
              "      <td>108 M</td>\n",
              "      <td>$61 M</td>\n",
              "      <td>$47 M</td>\n",
              "      <td>Soccer</td>\n",
              "      <td>M</td>\n",
              "    </tr>\n",
              "    <tr>\n",
              "      <th>3</th>\n",
              "      <td>4</td>\n",
              "      <td>Conor McGregor</td>\n",
              "      <td>99 M</td>\n",
              "      <td>$85 M</td>\n",
              "      <td>$14 M</td>\n",
              "      <td>Mixed Martial Arts</td>\n",
              "      <td>M</td>\n",
              "    </tr>\n",
              "    <tr>\n",
              "      <th>4</th>\n",
              "      <td>5</td>\n",
              "      <td>Neymar</td>\n",
              "      <td>90 M</td>\n",
              "      <td>$73 M</td>\n",
              "      <td>$17 M</td>\n",
              "      <td>Soccer</td>\n",
              "      <td>M</td>\n",
              "    </tr>\n",
              "  </tbody>\n",
              "</table>\n",
              "</div>"
            ],
            "text/plain": [
              "  Rank               Name    Pay  ... Endorsements               Sport Gender \n",
              "0    1   Floyd Mayweather  285 M  ...        $10 M              Boxing       M\n",
              "1    2       Lionel Messi  111 M  ...        $27 M              Soccer       M\n",
              "2    3  Cristiano Ronaldo  108 M  ...        $47 M              Soccer       M\n",
              "3    4     Conor McGregor   99 M  ...        $14 M  Mixed Martial Arts       M\n",
              "4    5             Neymar   90 M  ...        $17 M              Soccer       M\n",
              "\n",
              "[5 rows x 7 columns]"
            ]
          },
          "metadata": {
            "tags": []
          },
          "execution_count": 9
        }
      ]
    },
    {
      "cell_type": "code",
      "metadata": {
        "id": "5dk-bvlWHy0u",
        "colab_type": "code",
        "colab": {}
      },
      "source": [
        "# removing another character and also changing its data type to float\n",
        "top100['Pay'] = top100['Pay'].str.replace(' M', '').astype(float)"
      ],
      "execution_count": 0,
      "outputs": []
    },
    {
      "cell_type": "code",
      "metadata": {
        "id": "x2XEd5ETIBEF",
        "colab_type": "code",
        "colab": {}
      },
      "source": [
        "# multiplying the value by 1 million and changing its data type to int\n",
        "top100['Pay'] = (top100['Pay']*1000000).astype(int)"
      ],
      "execution_count": 0,
      "outputs": []
    },
    {
      "cell_type": "code",
      "metadata": {
        "id": "AxAIIBDaIL2A",
        "colab_type": "code",
        "outputId": "94f5c037-3984-4de5-8908-5b0669b4e521",
        "colab": {
          "base_uri": "https://localhost:8080/",
          "height": 204
        }
      },
      "source": [
        "# checking to see if the change has taken place\n",
        "top100.head()"
      ],
      "execution_count": 12,
      "outputs": [
        {
          "output_type": "execute_result",
          "data": {
            "text/html": [
              "<div>\n",
              "<style scoped>\n",
              "    .dataframe tbody tr th:only-of-type {\n",
              "        vertical-align: middle;\n",
              "    }\n",
              "\n",
              "    .dataframe tbody tr th {\n",
              "        vertical-align: top;\n",
              "    }\n",
              "\n",
              "    .dataframe thead th {\n",
              "        text-align: right;\n",
              "    }\n",
              "</style>\n",
              "<table border=\"1\" class=\"dataframe\">\n",
              "  <thead>\n",
              "    <tr style=\"text-align: right;\">\n",
              "      <th></th>\n",
              "      <th>Rank</th>\n",
              "      <th>Name</th>\n",
              "      <th>Pay</th>\n",
              "      <th>Salary/Winnings</th>\n",
              "      <th>Endorsements</th>\n",
              "      <th>Sport</th>\n",
              "      <th>Gender</th>\n",
              "    </tr>\n",
              "  </thead>\n",
              "  <tbody>\n",
              "    <tr>\n",
              "      <th>0</th>\n",
              "      <td>1</td>\n",
              "      <td>Floyd Mayweather</td>\n",
              "      <td>285000000</td>\n",
              "      <td>$275 M</td>\n",
              "      <td>$10 M</td>\n",
              "      <td>Boxing</td>\n",
              "      <td>M</td>\n",
              "    </tr>\n",
              "    <tr>\n",
              "      <th>1</th>\n",
              "      <td>2</td>\n",
              "      <td>Lionel Messi</td>\n",
              "      <td>111000000</td>\n",
              "      <td>$84 M</td>\n",
              "      <td>$27 M</td>\n",
              "      <td>Soccer</td>\n",
              "      <td>M</td>\n",
              "    </tr>\n",
              "    <tr>\n",
              "      <th>2</th>\n",
              "      <td>3</td>\n",
              "      <td>Cristiano Ronaldo</td>\n",
              "      <td>108000000</td>\n",
              "      <td>$61 M</td>\n",
              "      <td>$47 M</td>\n",
              "      <td>Soccer</td>\n",
              "      <td>M</td>\n",
              "    </tr>\n",
              "    <tr>\n",
              "      <th>3</th>\n",
              "      <td>4</td>\n",
              "      <td>Conor McGregor</td>\n",
              "      <td>99000000</td>\n",
              "      <td>$85 M</td>\n",
              "      <td>$14 M</td>\n",
              "      <td>Mixed Martial Arts</td>\n",
              "      <td>M</td>\n",
              "    </tr>\n",
              "    <tr>\n",
              "      <th>4</th>\n",
              "      <td>5</td>\n",
              "      <td>Neymar</td>\n",
              "      <td>90000000</td>\n",
              "      <td>$73 M</td>\n",
              "      <td>$17 M</td>\n",
              "      <td>Soccer</td>\n",
              "      <td>M</td>\n",
              "    </tr>\n",
              "  </tbody>\n",
              "</table>\n",
              "</div>"
            ],
            "text/plain": [
              "  Rank               Name        Pay  ... Endorsements               Sport Gender \n",
              "0    1   Floyd Mayweather  285000000  ...        $10 M              Boxing       M\n",
              "1    2       Lionel Messi  111000000  ...        $27 M              Soccer       M\n",
              "2    3  Cristiano Ronaldo  108000000  ...        $47 M              Soccer       M\n",
              "3    4     Conor McGregor   99000000  ...        $14 M  Mixed Martial Arts       M\n",
              "4    5             Neymar   90000000  ...        $17 M              Soccer       M\n",
              "\n",
              "[5 rows x 7 columns]"
            ]
          },
          "metadata": {
            "tags": []
          },
          "execution_count": 12
        }
      ]
    },
    {
      "cell_type": "code",
      "metadata": {
        "id": "3kWjMLIxINlZ",
        "colab_type": "code",
        "colab": {}
      },
      "source": [
        "# removing first character from (Salary/Winnings) column\n",
        "top100['Salary/Winnings'] = top100['Salary/Winnings'].str.replace('$', '')"
      ],
      "execution_count": 0,
      "outputs": []
    },
    {
      "cell_type": "code",
      "metadata": {
        "id": "s8pskL6YIshu",
        "colab_type": "code",
        "colab": {}
      },
      "source": [
        "# removing second character from (Salary/Winnings) column\n",
        "top100['Salary/Winnings'] = top100['Salary/Winnings'].str.replace(' M', '')"
      ],
      "execution_count": 0,
      "outputs": []
    },
    {
      "cell_type": "code",
      "metadata": {
        "id": "XoZ5YRVhJF4P",
        "colab_type": "code",
        "colab": {}
      },
      "source": [
        "# changing data type to float\n",
        "top100['Salary/Winnings'] = top100['Salary/Winnings'].astype(float)"
      ],
      "execution_count": 0,
      "outputs": []
    },
    {
      "cell_type": "code",
      "metadata": {
        "id": "1UvQCalgJw4R",
        "colab_type": "code",
        "colab": {}
      },
      "source": [
        "# multiplying column's value by 1 million and changing data type to int\n",
        "top100['Salary/Winnings'] = (top100['Salary/Winnings']*1000000).astype(int)"
      ],
      "execution_count": 0,
      "outputs": []
    },
    {
      "cell_type": "code",
      "metadata": {
        "id": "OtcBXTn-Khlz",
        "colab_type": "code",
        "outputId": "83b7f2f4-bfb3-4e55-b422-e5e5a08dd6d1",
        "colab": {
          "base_uri": "https://localhost:8080/",
          "height": 204
        }
      },
      "source": [
        "# checking to see the change\n",
        "top100.head()"
      ],
      "execution_count": 17,
      "outputs": [
        {
          "output_type": "execute_result",
          "data": {
            "text/html": [
              "<div>\n",
              "<style scoped>\n",
              "    .dataframe tbody tr th:only-of-type {\n",
              "        vertical-align: middle;\n",
              "    }\n",
              "\n",
              "    .dataframe tbody tr th {\n",
              "        vertical-align: top;\n",
              "    }\n",
              "\n",
              "    .dataframe thead th {\n",
              "        text-align: right;\n",
              "    }\n",
              "</style>\n",
              "<table border=\"1\" class=\"dataframe\">\n",
              "  <thead>\n",
              "    <tr style=\"text-align: right;\">\n",
              "      <th></th>\n",
              "      <th>Rank</th>\n",
              "      <th>Name</th>\n",
              "      <th>Pay</th>\n",
              "      <th>Salary/Winnings</th>\n",
              "      <th>Endorsements</th>\n",
              "      <th>Sport</th>\n",
              "      <th>Gender</th>\n",
              "    </tr>\n",
              "  </thead>\n",
              "  <tbody>\n",
              "    <tr>\n",
              "      <th>0</th>\n",
              "      <td>1</td>\n",
              "      <td>Floyd Mayweather</td>\n",
              "      <td>285000000</td>\n",
              "      <td>275000000</td>\n",
              "      <td>$10 M</td>\n",
              "      <td>Boxing</td>\n",
              "      <td>M</td>\n",
              "    </tr>\n",
              "    <tr>\n",
              "      <th>1</th>\n",
              "      <td>2</td>\n",
              "      <td>Lionel Messi</td>\n",
              "      <td>111000000</td>\n",
              "      <td>84000000</td>\n",
              "      <td>$27 M</td>\n",
              "      <td>Soccer</td>\n",
              "      <td>M</td>\n",
              "    </tr>\n",
              "    <tr>\n",
              "      <th>2</th>\n",
              "      <td>3</td>\n",
              "      <td>Cristiano Ronaldo</td>\n",
              "      <td>108000000</td>\n",
              "      <td>61000000</td>\n",
              "      <td>$47 M</td>\n",
              "      <td>Soccer</td>\n",
              "      <td>M</td>\n",
              "    </tr>\n",
              "    <tr>\n",
              "      <th>3</th>\n",
              "      <td>4</td>\n",
              "      <td>Conor McGregor</td>\n",
              "      <td>99000000</td>\n",
              "      <td>85000000</td>\n",
              "      <td>$14 M</td>\n",
              "      <td>Mixed Martial Arts</td>\n",
              "      <td>M</td>\n",
              "    </tr>\n",
              "    <tr>\n",
              "      <th>4</th>\n",
              "      <td>5</td>\n",
              "      <td>Neymar</td>\n",
              "      <td>90000000</td>\n",
              "      <td>73000000</td>\n",
              "      <td>$17 M</td>\n",
              "      <td>Soccer</td>\n",
              "      <td>M</td>\n",
              "    </tr>\n",
              "  </tbody>\n",
              "</table>\n",
              "</div>"
            ],
            "text/plain": [
              "  Rank               Name        Pay  ...  Endorsements               Sport Gender \n",
              "0    1   Floyd Mayweather  285000000  ...         $10 M              Boxing       M\n",
              "1    2       Lionel Messi  111000000  ...         $27 M              Soccer       M\n",
              "2    3  Cristiano Ronaldo  108000000  ...         $47 M              Soccer       M\n",
              "3    4     Conor McGregor   99000000  ...         $14 M  Mixed Martial Arts       M\n",
              "4    5             Neymar   90000000  ...         $17 M              Soccer       M\n",
              "\n",
              "[5 rows x 7 columns]"
            ]
          },
          "metadata": {
            "tags": []
          },
          "execution_count": 17
        }
      ]
    },
    {
      "cell_type": "code",
      "metadata": {
        "id": "BGM3OpfnKmX6",
        "colab_type": "code",
        "outputId": "f94f81fe-afae-4ed6-dbcc-539cb83b9ecf",
        "colab": {
          "base_uri": "https://localhost:8080/",
          "height": 374
        }
      },
      "source": [
        "# checking (Endorsements) columns\n",
        "top100['Endorsements'].head(20)"
      ],
      "execution_count": 18,
      "outputs": [
        {
          "output_type": "execute_result",
          "data": {
            "text/plain": [
              "0      $10 M\n",
              "1      $27 M\n",
              "2      $47 M\n",
              "3      $14 M\n",
              "4      $17 M\n",
              "5      $52 M\n",
              "6      $65 M\n",
              "7      $42 M\n",
              "8       $5 M\n",
              "9       $2 M\n",
              "10     $32 M\n",
              "11      $9 M\n",
              "12     $19 M\n",
              "13     $18 M\n",
              "14    $2.5 M\n",
              "15     $42 M\n",
              "16     $13 M\n",
              "17    $300 K\n",
              "18      $2 M\n",
              "19     $27 M\n",
              "Name: Endorsements, dtype: object"
            ]
          },
          "metadata": {
            "tags": []
          },
          "execution_count": 18
        }
      ]
    },
    {
      "cell_type": "code",
      "metadata": {
        "id": "N6fZ4774ONPr",
        "colab_type": "code",
        "colab": {}
      },
      "source": [
        "# removing first character from this column\n",
        "top100['Endorsements'] = top100['Endorsements'].str.replace('$', '')"
      ],
      "execution_count": 0,
      "outputs": []
    },
    {
      "cell_type": "code",
      "metadata": {
        "id": "oDLx1wI5RvCs",
        "colab_type": "code",
        "colab": {}
      },
      "source": [
        "# removing another character from the same column\n",
        "top100['Endorsements'] = top100['Endorsements'].str.replace(' M', '')"
      ],
      "execution_count": 0,
      "outputs": []
    },
    {
      "cell_type": "code",
      "metadata": {
        "id": "x7NH82q-S3Tm",
        "colab_type": "code",
        "colab": {}
      },
      "source": [
        "# removing another character from the same column\n",
        "top100['Endorsements'] = top100['Endorsements'].str.replace(' K', '')"
      ],
      "execution_count": 0,
      "outputs": []
    },
    {
      "cell_type": "code",
      "metadata": {
        "id": "osHjuSadPtDT",
        "colab_type": "code",
        "outputId": "6ca658f1-02bc-4a9c-b85c-9ccacd798922",
        "colab": {
          "base_uri": "https://localhost:8080/",
          "height": 204
        }
      },
      "source": [
        "# checking to see the change\n",
        "top100.head()"
      ],
      "execution_count": 22,
      "outputs": [
        {
          "output_type": "execute_result",
          "data": {
            "text/html": [
              "<div>\n",
              "<style scoped>\n",
              "    .dataframe tbody tr th:only-of-type {\n",
              "        vertical-align: middle;\n",
              "    }\n",
              "\n",
              "    .dataframe tbody tr th {\n",
              "        vertical-align: top;\n",
              "    }\n",
              "\n",
              "    .dataframe thead th {\n",
              "        text-align: right;\n",
              "    }\n",
              "</style>\n",
              "<table border=\"1\" class=\"dataframe\">\n",
              "  <thead>\n",
              "    <tr style=\"text-align: right;\">\n",
              "      <th></th>\n",
              "      <th>Rank</th>\n",
              "      <th>Name</th>\n",
              "      <th>Pay</th>\n",
              "      <th>Salary/Winnings</th>\n",
              "      <th>Endorsements</th>\n",
              "      <th>Sport</th>\n",
              "      <th>Gender</th>\n",
              "    </tr>\n",
              "  </thead>\n",
              "  <tbody>\n",
              "    <tr>\n",
              "      <th>0</th>\n",
              "      <td>1</td>\n",
              "      <td>Floyd Mayweather</td>\n",
              "      <td>285000000</td>\n",
              "      <td>275000000</td>\n",
              "      <td>10</td>\n",
              "      <td>Boxing</td>\n",
              "      <td>M</td>\n",
              "    </tr>\n",
              "    <tr>\n",
              "      <th>1</th>\n",
              "      <td>2</td>\n",
              "      <td>Lionel Messi</td>\n",
              "      <td>111000000</td>\n",
              "      <td>84000000</td>\n",
              "      <td>27</td>\n",
              "      <td>Soccer</td>\n",
              "      <td>M</td>\n",
              "    </tr>\n",
              "    <tr>\n",
              "      <th>2</th>\n",
              "      <td>3</td>\n",
              "      <td>Cristiano Ronaldo</td>\n",
              "      <td>108000000</td>\n",
              "      <td>61000000</td>\n",
              "      <td>47</td>\n",
              "      <td>Soccer</td>\n",
              "      <td>M</td>\n",
              "    </tr>\n",
              "    <tr>\n",
              "      <th>3</th>\n",
              "      <td>4</td>\n",
              "      <td>Conor McGregor</td>\n",
              "      <td>99000000</td>\n",
              "      <td>85000000</td>\n",
              "      <td>14</td>\n",
              "      <td>Mixed Martial Arts</td>\n",
              "      <td>M</td>\n",
              "    </tr>\n",
              "    <tr>\n",
              "      <th>4</th>\n",
              "      <td>5</td>\n",
              "      <td>Neymar</td>\n",
              "      <td>90000000</td>\n",
              "      <td>73000000</td>\n",
              "      <td>17</td>\n",
              "      <td>Soccer</td>\n",
              "      <td>M</td>\n",
              "    </tr>\n",
              "  </tbody>\n",
              "</table>\n",
              "</div>"
            ],
            "text/plain": [
              "  Rank               Name        Pay  ...  Endorsements               Sport Gender \n",
              "0    1   Floyd Mayweather  285000000  ...            10              Boxing       M\n",
              "1    2       Lionel Messi  111000000  ...            27              Soccer       M\n",
              "2    3  Cristiano Ronaldo  108000000  ...            47              Soccer       M\n",
              "3    4     Conor McGregor   99000000  ...            14  Mixed Martial Arts       M\n",
              "4    5             Neymar   90000000  ...            17              Soccer       M\n",
              "\n",
              "[5 rows x 7 columns]"
            ]
          },
          "metadata": {
            "tags": []
          },
          "execution_count": 22
        }
      ]
    },
    {
      "cell_type": "code",
      "metadata": {
        "id": "AH0n7sbaaUuW",
        "colab_type": "code",
        "colab": {}
      },
      "source": [
        "# changing the data type of (Endorsements) column\n",
        "top100['Endorsements'] = top100['Endorsements'].astype(float)"
      ],
      "execution_count": 0,
      "outputs": []
    },
    {
      "cell_type": "code",
      "metadata": {
        "id": "lHOaFox1RzKh",
        "colab_type": "code",
        "outputId": "ef167ad2-20b9-4bef-c562-a1afaebb4921",
        "colab": {
          "base_uri": "https://localhost:8080/",
          "height": 153
        }
      },
      "source": [
        "# checking df data types\n",
        "top100.dtypes"
      ],
      "execution_count": 24,
      "outputs": [
        {
          "output_type": "execute_result",
          "data": {
            "text/plain": [
              "Rank                object\n",
              "Name                object\n",
              "Pay                  int64\n",
              "Salary/Winnings      int64\n",
              "Endorsements       float64\n",
              "Sport               object\n",
              "Gender              object\n",
              "dtype: object"
            ]
          },
          "metadata": {
            "tags": []
          },
          "execution_count": 24
        }
      ]
    },
    {
      "cell_type": "code",
      "metadata": {
        "id": "CaUtSYk6W0JI",
        "colab_type": "code",
        "colab": {}
      },
      "source": [
        "# making a function to change the value of (Endorsements) column\n",
        "# this column has two kinds of value: one in million and one in thousands\n",
        "def mul(values):\n",
        "  '''multiplies values less than 100k with 1 million\n",
        "  and multiples values equal or higher than 100k with 1 k'''\n",
        "  if values < 100:\n",
        "    return int(values*1000000)\n",
        "  else:\n",
        "    return int(values*1000)"
      ],
      "execution_count": 0,
      "outputs": []
    },
    {
      "cell_type": "code",
      "metadata": {
        "id": "1EYiDzoER2vW",
        "colab_type": "code",
        "colab": {}
      },
      "source": [
        "# using apply() to change the value of (Endorsements) column\n",
        "top100['Endorsements'] = top100['Endorsements'].apply(mul)"
      ],
      "execution_count": 0,
      "outputs": []
    },
    {
      "cell_type": "code",
      "metadata": {
        "id": "d_WokBlwXV6R",
        "colab_type": "code",
        "outputId": "db7f8b1f-0006-437b-8a2b-2a1dcc11b045",
        "colab": {
          "base_uri": "https://localhost:8080/",
          "height": 204
        }
      },
      "source": [
        "# checking to see the change\n",
        "top100.head()"
      ],
      "execution_count": 27,
      "outputs": [
        {
          "output_type": "execute_result",
          "data": {
            "text/html": [
              "<div>\n",
              "<style scoped>\n",
              "    .dataframe tbody tr th:only-of-type {\n",
              "        vertical-align: middle;\n",
              "    }\n",
              "\n",
              "    .dataframe tbody tr th {\n",
              "        vertical-align: top;\n",
              "    }\n",
              "\n",
              "    .dataframe thead th {\n",
              "        text-align: right;\n",
              "    }\n",
              "</style>\n",
              "<table border=\"1\" class=\"dataframe\">\n",
              "  <thead>\n",
              "    <tr style=\"text-align: right;\">\n",
              "      <th></th>\n",
              "      <th>Rank</th>\n",
              "      <th>Name</th>\n",
              "      <th>Pay</th>\n",
              "      <th>Salary/Winnings</th>\n",
              "      <th>Endorsements</th>\n",
              "      <th>Sport</th>\n",
              "      <th>Gender</th>\n",
              "    </tr>\n",
              "  </thead>\n",
              "  <tbody>\n",
              "    <tr>\n",
              "      <th>0</th>\n",
              "      <td>1</td>\n",
              "      <td>Floyd Mayweather</td>\n",
              "      <td>285000000</td>\n",
              "      <td>275000000</td>\n",
              "      <td>10000000</td>\n",
              "      <td>Boxing</td>\n",
              "      <td>M</td>\n",
              "    </tr>\n",
              "    <tr>\n",
              "      <th>1</th>\n",
              "      <td>2</td>\n",
              "      <td>Lionel Messi</td>\n",
              "      <td>111000000</td>\n",
              "      <td>84000000</td>\n",
              "      <td>27000000</td>\n",
              "      <td>Soccer</td>\n",
              "      <td>M</td>\n",
              "    </tr>\n",
              "    <tr>\n",
              "      <th>2</th>\n",
              "      <td>3</td>\n",
              "      <td>Cristiano Ronaldo</td>\n",
              "      <td>108000000</td>\n",
              "      <td>61000000</td>\n",
              "      <td>47000000</td>\n",
              "      <td>Soccer</td>\n",
              "      <td>M</td>\n",
              "    </tr>\n",
              "    <tr>\n",
              "      <th>3</th>\n",
              "      <td>4</td>\n",
              "      <td>Conor McGregor</td>\n",
              "      <td>99000000</td>\n",
              "      <td>85000000</td>\n",
              "      <td>14000000</td>\n",
              "      <td>Mixed Martial Arts</td>\n",
              "      <td>M</td>\n",
              "    </tr>\n",
              "    <tr>\n",
              "      <th>4</th>\n",
              "      <td>5</td>\n",
              "      <td>Neymar</td>\n",
              "      <td>90000000</td>\n",
              "      <td>73000000</td>\n",
              "      <td>17000000</td>\n",
              "      <td>Soccer</td>\n",
              "      <td>M</td>\n",
              "    </tr>\n",
              "  </tbody>\n",
              "</table>\n",
              "</div>"
            ],
            "text/plain": [
              "  Rank               Name        Pay  ...  Endorsements               Sport Gender \n",
              "0    1   Floyd Mayweather  285000000  ...      10000000              Boxing       M\n",
              "1    2       Lionel Messi  111000000  ...      27000000              Soccer       M\n",
              "2    3  Cristiano Ronaldo  108000000  ...      47000000              Soccer       M\n",
              "3    4     Conor McGregor   99000000  ...      14000000  Mixed Martial Arts       M\n",
              "4    5             Neymar   90000000  ...      17000000              Soccer       M\n",
              "\n",
              "[5 rows x 7 columns]"
            ]
          },
          "metadata": {
            "tags": []
          },
          "execution_count": 27
        }
      ]
    },
    {
      "cell_type": "code",
      "metadata": {
        "id": "0SygR9yQVT4q",
        "colab_type": "code",
        "outputId": "bbe762b5-df29-4d26-8577-78b1d1752755",
        "colab": {
          "base_uri": "https://localhost:8080/",
          "height": 204
        }
      },
      "source": [
        "top100.tail()"
      ],
      "execution_count": 28,
      "outputs": [
        {
          "output_type": "execute_result",
          "data": {
            "text/html": [
              "<div>\n",
              "<style scoped>\n",
              "    .dataframe tbody tr th:only-of-type {\n",
              "        vertical-align: middle;\n",
              "    }\n",
              "\n",
              "    .dataframe tbody tr th {\n",
              "        vertical-align: top;\n",
              "    }\n",
              "\n",
              "    .dataframe thead th {\n",
              "        text-align: right;\n",
              "    }\n",
              "</style>\n",
              "<table border=\"1\" class=\"dataframe\">\n",
              "  <thead>\n",
              "    <tr style=\"text-align: right;\">\n",
              "      <th></th>\n",
              "      <th>Rank</th>\n",
              "      <th>Name</th>\n",
              "      <th>Pay</th>\n",
              "      <th>Salary/Winnings</th>\n",
              "      <th>Endorsements</th>\n",
              "      <th>Sport</th>\n",
              "      <th>Gender</th>\n",
              "    </tr>\n",
              "  </thead>\n",
              "  <tbody>\n",
              "    <tr>\n",
              "      <th>95</th>\n",
              "      <td>95</td>\n",
              "      <td>Robinson Cano</td>\n",
              "      <td>23100000</td>\n",
              "      <td>22100000</td>\n",
              "      <td>1000000</td>\n",
              "      <td>Baseball</td>\n",
              "      <td>M</td>\n",
              "    </tr>\n",
              "    <tr>\n",
              "      <th>96</th>\n",
              "      <td>95</td>\n",
              "      <td>Brook Lopez</td>\n",
              "      <td>23100000</td>\n",
              "      <td>22600000</td>\n",
              "      <td>500000</td>\n",
              "      <td>Basketball</td>\n",
              "      <td>M</td>\n",
              "    </tr>\n",
              "    <tr>\n",
              "      <th>97</th>\n",
              "      <td>95</td>\n",
              "      <td>Masahiro Tanaka</td>\n",
              "      <td>23100000</td>\n",
              "      <td>22100000</td>\n",
              "      <td>1000000</td>\n",
              "      <td>Baseball</td>\n",
              "      <td>M</td>\n",
              "    </tr>\n",
              "    <tr>\n",
              "      <th>98</th>\n",
              "      <td>99</td>\n",
              "      <td>Melvin Ingram</td>\n",
              "      <td>23000000</td>\n",
              "      <td>22800000</td>\n",
              "      <td>150000</td>\n",
              "      <td>Football</td>\n",
              "      <td>M</td>\n",
              "    </tr>\n",
              "    <tr>\n",
              "      <th>99</th>\n",
              "      <td>100</td>\n",
              "      <td>Nicolas Batum</td>\n",
              "      <td>22900000</td>\n",
              "      <td>22400000</td>\n",
              "      <td>500000</td>\n",
              "      <td>Basketball</td>\n",
              "      <td>M</td>\n",
              "    </tr>\n",
              "  </tbody>\n",
              "</table>\n",
              "</div>"
            ],
            "text/plain": [
              "   Rank             Name       Pay  ...  Endorsements       Sport Gender \n",
              "95   95    Robinson Cano  23100000  ...       1000000    Baseball       M\n",
              "96   95      Brook Lopez  23100000  ...        500000  Basketball       M\n",
              "97   95  Masahiro Tanaka  23100000  ...       1000000    Baseball       M\n",
              "98   99    Melvin Ingram  23000000  ...        150000    Football       M\n",
              "99  100    Nicolas Batum  22900000  ...        500000  Basketball       M\n",
              "\n",
              "[5 rows x 7 columns]"
            ]
          },
          "metadata": {
            "tags": []
          },
          "execution_count": 28
        }
      ]
    },
    {
      "cell_type": "markdown",
      "metadata": {
        "id": "swBuNaGCDFNo",
        "colab_type": "text"
      },
      "source": [
        "# Exploring data types and describing it to see the statistics"
      ]
    },
    {
      "cell_type": "code",
      "metadata": {
        "id": "ce2gQqriDEOx",
        "colab_type": "code",
        "outputId": "3b562e93-b3dd-4956-8d85-8eccebb02c64",
        "colab": {
          "base_uri": "https://localhost:8080/",
          "height": 153
        }
      },
      "source": [
        "top100.dtypes"
      ],
      "execution_count": 29,
      "outputs": [
        {
          "output_type": "execute_result",
          "data": {
            "text/plain": [
              "Rank               object\n",
              "Name               object\n",
              "Pay                 int64\n",
              "Salary/Winnings     int64\n",
              "Endorsements        int64\n",
              "Sport              object\n",
              "Gender             object\n",
              "dtype: object"
            ]
          },
          "metadata": {
            "tags": []
          },
          "execution_count": 29
        }
      ]
    },
    {
      "cell_type": "code",
      "metadata": {
        "id": "n2pKD8XjXbz6",
        "colab_type": "code",
        "outputId": "d3d5b0f1-a5fc-426b-f81c-d6c6d144c7d3",
        "colab": {
          "base_uri": "https://localhost:8080/",
          "height": 297
        }
      },
      "source": [
        "top100.describe()"
      ],
      "execution_count": 30,
      "outputs": [
        {
          "output_type": "execute_result",
          "data": {
            "text/html": [
              "<div>\n",
              "<style scoped>\n",
              "    .dataframe tbody tr th:only-of-type {\n",
              "        vertical-align: middle;\n",
              "    }\n",
              "\n",
              "    .dataframe tbody tr th {\n",
              "        vertical-align: top;\n",
              "    }\n",
              "\n",
              "    .dataframe thead th {\n",
              "        text-align: right;\n",
              "    }\n",
              "</style>\n",
              "<table border=\"1\" class=\"dataframe\">\n",
              "  <thead>\n",
              "    <tr style=\"text-align: right;\">\n",
              "      <th></th>\n",
              "      <th>Pay</th>\n",
              "      <th>Salary/Winnings</th>\n",
              "      <th>Endorsements</th>\n",
              "    </tr>\n",
              "  </thead>\n",
              "  <tbody>\n",
              "    <tr>\n",
              "      <th>count</th>\n",
              "      <td>1.000000e+02</td>\n",
              "      <td>1.000000e+02</td>\n",
              "      <td>1.000000e+02</td>\n",
              "    </tr>\n",
              "    <tr>\n",
              "      <th>mean</th>\n",
              "      <td>3.814900e+07</td>\n",
              "      <td>2.940500e+07</td>\n",
              "      <td>9.240000e+06</td>\n",
              "    </tr>\n",
              "    <tr>\n",
              "      <th>std</th>\n",
              "      <td>3.085121e+07</td>\n",
              "      <td>2.852965e+07</td>\n",
              "      <td>1.374816e+07</td>\n",
              "    </tr>\n",
              "    <tr>\n",
              "      <th>min</th>\n",
              "      <td>2.290000e+07</td>\n",
              "      <td>1.000000e+06</td>\n",
              "      <td>1.000000e+05</td>\n",
              "    </tr>\n",
              "    <tr>\n",
              "      <th>25%</th>\n",
              "      <td>2.482500e+07</td>\n",
              "      <td>2.247500e+07</td>\n",
              "      <td>1.000000e+06</td>\n",
              "    </tr>\n",
              "    <tr>\n",
              "      <th>50%</th>\n",
              "      <td>2.990000e+07</td>\n",
              "      <td>2.410000e+07</td>\n",
              "      <td>2.000000e+06</td>\n",
              "    </tr>\n",
              "    <tr>\n",
              "      <th>75%</th>\n",
              "      <td>3.802500e+07</td>\n",
              "      <td>2.957500e+07</td>\n",
              "      <td>1.300000e+07</td>\n",
              "    </tr>\n",
              "    <tr>\n",
              "      <th>max</th>\n",
              "      <td>2.850000e+08</td>\n",
              "      <td>2.750000e+08</td>\n",
              "      <td>6.500000e+07</td>\n",
              "    </tr>\n",
              "  </tbody>\n",
              "</table>\n",
              "</div>"
            ],
            "text/plain": [
              "                Pay  Salary/Winnings  Endorsements\n",
              "count  1.000000e+02     1.000000e+02  1.000000e+02\n",
              "mean   3.814900e+07     2.940500e+07  9.240000e+06\n",
              "std    3.085121e+07     2.852965e+07  1.374816e+07\n",
              "min    2.290000e+07     1.000000e+06  1.000000e+05\n",
              "25%    2.482500e+07     2.247500e+07  1.000000e+06\n",
              "50%    2.990000e+07     2.410000e+07  2.000000e+06\n",
              "75%    3.802500e+07     2.957500e+07  1.300000e+07\n",
              "max    2.850000e+08     2.750000e+08  6.500000e+07"
            ]
          },
          "metadata": {
            "tags": []
          },
          "execution_count": 30
        }
      ]
    },
    {
      "cell_type": "markdown",
      "metadata": {
        "id": "1o8Dn_bUamZ-",
        "colab_type": "text"
      },
      "source": [
        "# Uploading another dataset"
      ]
    },
    {
      "cell_type": "code",
      "metadata": {
        "id": "mfX8Pu2xZMXG",
        "colab_type": "code",
        "outputId": "e2f2a88a-9e89-4705-9f99-ab2a7b73a1f6",
        "colab": {
          "base_uri": "https://localhost:8080/",
          "height": 221
        }
      },
      "source": [
        "# making a dataframe country\n",
        "country = pd.read_csv('athlete country.csv')\n",
        "print(country.shape)\n",
        "country.head()"
      ],
      "execution_count": 31,
      "outputs": [
        {
          "output_type": "stream",
          "text": [
            "(100, 2)\n"
          ],
          "name": "stdout"
        },
        {
          "output_type": "execute_result",
          "data": {
            "text/html": [
              "<div>\n",
              "<style scoped>\n",
              "    .dataframe tbody tr th:only-of-type {\n",
              "        vertical-align: middle;\n",
              "    }\n",
              "\n",
              "    .dataframe tbody tr th {\n",
              "        vertical-align: top;\n",
              "    }\n",
              "\n",
              "    .dataframe thead th {\n",
              "        text-align: right;\n",
              "    }\n",
              "</style>\n",
              "<table border=\"1\" class=\"dataframe\">\n",
              "  <thead>\n",
              "    <tr style=\"text-align: right;\">\n",
              "      <th></th>\n",
              "      <th>athlete</th>\n",
              "      <th>country</th>\n",
              "    </tr>\n",
              "  </thead>\n",
              "  <tbody>\n",
              "    <tr>\n",
              "      <th>0</th>\n",
              "      <td>Floyd Mayweather</td>\n",
              "      <td>U.S.</td>\n",
              "    </tr>\n",
              "    <tr>\n",
              "      <th>1</th>\n",
              "      <td>Lionel Messi</td>\n",
              "      <td>Argentina</td>\n",
              "    </tr>\n",
              "    <tr>\n",
              "      <th>2</th>\n",
              "      <td>Cristiano Ronaldo</td>\n",
              "      <td>Portugal</td>\n",
              "    </tr>\n",
              "    <tr>\n",
              "      <th>3</th>\n",
              "      <td>Conor McGregor</td>\n",
              "      <td>Ireland</td>\n",
              "    </tr>\n",
              "    <tr>\n",
              "      <th>4</th>\n",
              "      <td>Neymar</td>\n",
              "      <td>Brazil</td>\n",
              "    </tr>\n",
              "  </tbody>\n",
              "</table>\n",
              "</div>"
            ],
            "text/plain": [
              "              athlete     country\n",
              "0    Floyd Mayweather        U.S.\n",
              "1        Lionel Messi   Argentina\n",
              "2   Cristiano Ronaldo    Portugal\n",
              "3      Conor McGregor     Ireland\n",
              "4              Neymar      Brazil"
            ]
          },
          "metadata": {
            "tags": []
          },
          "execution_count": 31
        }
      ]
    },
    {
      "cell_type": "code",
      "metadata": {
        "id": "sdtFBDjta1Vu",
        "colab_type": "code",
        "outputId": "deb9e54b-6b8a-4fc2-8fdd-4febf94f084b",
        "colab": {
          "base_uri": "https://localhost:8080/",
          "height": 68
        }
      },
      "source": [
        "# checking data types of country\n",
        "country.dtypes"
      ],
      "execution_count": 32,
      "outputs": [
        {
          "output_type": "execute_result",
          "data": {
            "text/plain": [
              "athlete    object\n",
              "country    object\n",
              "dtype: object"
            ]
          },
          "metadata": {
            "tags": []
          },
          "execution_count": 32
        }
      ]
    },
    {
      "cell_type": "code",
      "metadata": {
        "id": "omVDRXQUa26f",
        "colab_type": "code",
        "outputId": "1677aeed-d845-47b3-a60a-00be197bc374",
        "colab": {
          "base_uri": "https://localhost:8080/",
          "height": 34
        }
      },
      "source": [
        "# checking column names\n",
        "country.columns.to_list()"
      ],
      "execution_count": 33,
      "outputs": [
        {
          "output_type": "execute_result",
          "data": {
            "text/plain": [
              "['athlete', 'country']"
            ]
          },
          "metadata": {
            "tags": []
          },
          "execution_count": 33
        }
      ]
    },
    {
      "cell_type": "code",
      "metadata": {
        "id": "zLL-uJXda74a",
        "colab_type": "code",
        "outputId": "66d46f2c-ff2d-4b4b-fae2-697e9bfeff8f",
        "colab": {
          "base_uri": "https://localhost:8080/",
          "height": 34
        }
      },
      "source": [
        "# checking indexes\n",
        "country.index"
      ],
      "execution_count": 34,
      "outputs": [
        {
          "output_type": "execute_result",
          "data": {
            "text/plain": [
              "RangeIndex(start=0, stop=100, step=1)"
            ]
          },
          "metadata": {
            "tags": []
          },
          "execution_count": 34
        }
      ]
    },
    {
      "cell_type": "code",
      "metadata": {
        "id": "YKSsA65ra_m3",
        "colab_type": "code",
        "outputId": "b47c39d3-99bc-4e9b-e597-7e2ab33c6260",
        "colab": {
          "base_uri": "https://localhost:8080/",
          "height": 34
        }
      },
      "source": [
        "# checking the value of the column athlete\n",
        "# you can see there is space infront of first name\n",
        "country['athlete'][5]"
      ],
      "execution_count": 35,
      "outputs": [
        {
          "output_type": "execute_result",
          "data": {
            "text/plain": [
              "' LeBron James'"
            ]
          },
          "metadata": {
            "tags": []
          },
          "execution_count": 35
        }
      ]
    },
    {
      "cell_type": "code",
      "metadata": {
        "id": "miB_CNYSbHg4",
        "colab_type": "code",
        "colab": {}
      },
      "source": [
        "# removing the space from the values of (athlete) column\n",
        "country['athlete'] = country['athlete'].str.strip(' ')"
      ],
      "execution_count": 0,
      "outputs": []
    },
    {
      "cell_type": "code",
      "metadata": {
        "id": "YHGYyr37bQ1m",
        "colab_type": "code",
        "outputId": "a890114e-8101-42d2-8e63-189f18b95f6c",
        "colab": {
          "base_uri": "https://localhost:8080/",
          "height": 669
        }
      },
      "source": [
        "# checking to see the change\n",
        "country.head(20)"
      ],
      "execution_count": 37,
      "outputs": [
        {
          "output_type": "execute_result",
          "data": {
            "text/html": [
              "<div>\n",
              "<style scoped>\n",
              "    .dataframe tbody tr th:only-of-type {\n",
              "        vertical-align: middle;\n",
              "    }\n",
              "\n",
              "    .dataframe tbody tr th {\n",
              "        vertical-align: top;\n",
              "    }\n",
              "\n",
              "    .dataframe thead th {\n",
              "        text-align: right;\n",
              "    }\n",
              "</style>\n",
              "<table border=\"1\" class=\"dataframe\">\n",
              "  <thead>\n",
              "    <tr style=\"text-align: right;\">\n",
              "      <th></th>\n",
              "      <th>athlete</th>\n",
              "      <th>country</th>\n",
              "    </tr>\n",
              "  </thead>\n",
              "  <tbody>\n",
              "    <tr>\n",
              "      <th>0</th>\n",
              "      <td>Floyd Mayweather</td>\n",
              "      <td>U.S.</td>\n",
              "    </tr>\n",
              "    <tr>\n",
              "      <th>1</th>\n",
              "      <td>Lionel Messi</td>\n",
              "      <td>Argentina</td>\n",
              "    </tr>\n",
              "    <tr>\n",
              "      <th>2</th>\n",
              "      <td>Cristiano Ronaldo</td>\n",
              "      <td>Portugal</td>\n",
              "    </tr>\n",
              "    <tr>\n",
              "      <th>3</th>\n",
              "      <td>Conor McGregor</td>\n",
              "      <td>Ireland</td>\n",
              "    </tr>\n",
              "    <tr>\n",
              "      <th>4</th>\n",
              "      <td>Neymar</td>\n",
              "      <td>Brazil</td>\n",
              "    </tr>\n",
              "    <tr>\n",
              "      <th>5</th>\n",
              "      <td>LeBron James</td>\n",
              "      <td>U.S.</td>\n",
              "    </tr>\n",
              "    <tr>\n",
              "      <th>6</th>\n",
              "      <td>Roger Federer</td>\n",
              "      <td>Switzerland</td>\n",
              "    </tr>\n",
              "    <tr>\n",
              "      <th>7</th>\n",
              "      <td>Stephen Curry</td>\n",
              "      <td>U.S.</td>\n",
              "    </tr>\n",
              "    <tr>\n",
              "      <th>8</th>\n",
              "      <td>Matt Ryan</td>\n",
              "      <td>U.S.</td>\n",
              "    </tr>\n",
              "    <tr>\n",
              "      <th>9</th>\n",
              "      <td>Matthew Stafford</td>\n",
              "      <td>U.S.</td>\n",
              "    </tr>\n",
              "    <tr>\n",
              "      <th>10</th>\n",
              "      <td>Kevin Durant</td>\n",
              "      <td>U.S.</td>\n",
              "    </tr>\n",
              "    <tr>\n",
              "      <th>11</th>\n",
              "      <td>Lewis Hamilton</td>\n",
              "      <td>U.K.</td>\n",
              "    </tr>\n",
              "    <tr>\n",
              "      <th>12</th>\n",
              "      <td>Russell Westbrook</td>\n",
              "      <td>U.S.</td>\n",
              "    </tr>\n",
              "    <tr>\n",
              "      <th>13</th>\n",
              "      <td>James Harden</td>\n",
              "      <td>U.S.</td>\n",
              "    </tr>\n",
              "    <tr>\n",
              "      <th>14</th>\n",
              "      <td>Canelo Alvarez</td>\n",
              "      <td>Mexico</td>\n",
              "    </tr>\n",
              "    <tr>\n",
              "      <th>15</th>\n",
              "      <td>Tiger Woods</td>\n",
              "      <td>U.S.</td>\n",
              "    </tr>\n",
              "    <tr>\n",
              "      <th>16</th>\n",
              "      <td>Drew Brees</td>\n",
              "      <td>U.S.</td>\n",
              "    </tr>\n",
              "    <tr>\n",
              "      <th>17</th>\n",
              "      <td>Sebastian Vettel</td>\n",
              "      <td>Germany</td>\n",
              "    </tr>\n",
              "    <tr>\n",
              "      <th>18</th>\n",
              "      <td>Derek Carr</td>\n",
              "      <td>U.S.</td>\n",
              "    </tr>\n",
              "    <tr>\n",
              "      <th>19</th>\n",
              "      <td>Rafael Nadal</td>\n",
              "      <td>Spain</td>\n",
              "    </tr>\n",
              "  </tbody>\n",
              "</table>\n",
              "</div>"
            ],
            "text/plain": [
              "              athlete       country\n",
              "0    Floyd Mayweather          U.S.\n",
              "1        Lionel Messi     Argentina\n",
              "2   Cristiano Ronaldo      Portugal\n",
              "3      Conor McGregor       Ireland\n",
              "4              Neymar        Brazil\n",
              "5        LeBron James          U.S.\n",
              "6       Roger Federer   Switzerland\n",
              "7       Stephen Curry          U.S.\n",
              "8           Matt Ryan          U.S.\n",
              "9    Matthew Stafford          U.S.\n",
              "10       Kevin Durant          U.S.\n",
              "11     Lewis Hamilton          U.K.\n",
              "12  Russell Westbrook          U.S.\n",
              "13       James Harden          U.S.\n",
              "14     Canelo Alvarez        Mexico\n",
              "15        Tiger Woods          U.S.\n",
              "16         Drew Brees          U.S.\n",
              "17   Sebastian Vettel       Germany\n",
              "18         Derek Carr          U.S.\n",
              "19       Rafael Nadal         Spain"
            ]
          },
          "metadata": {
            "tags": []
          },
          "execution_count": 37
        }
      ]
    },
    {
      "cell_type": "code",
      "metadata": {
        "id": "si_APje1bXxP",
        "colab_type": "code",
        "colab": {}
      },
      "source": [
        "# changing the column name from (athlete) to (Name)\n",
        "country.columns = ['Name', 'Country']"
      ],
      "execution_count": 0,
      "outputs": []
    },
    {
      "cell_type": "code",
      "metadata": {
        "id": "D83-3Rfybt1-",
        "colab_type": "code",
        "colab": {}
      },
      "source": [
        "# merging two dataframes (top100) and  (country) to a new dataframe (merge)\n",
        "# merged using column (Name)\n",
        "# and selected left to get all the values from (top100) column\n",
        "merge = pd.merge(top100, country, on='Name', how='left')"
      ],
      "execution_count": 0,
      "outputs": []
    },
    {
      "cell_type": "code",
      "metadata": {
        "id": "yX8ptAQ4b73V",
        "colab_type": "code",
        "outputId": "4ecbf1f1-3b35-4637-cc0f-fb81d7173f86",
        "colab": {
          "base_uri": "https://localhost:8080/",
          "height": 34
        }
      },
      "source": [
        "# checking the shape of the df\n",
        "merge.shape"
      ],
      "execution_count": 40,
      "outputs": [
        {
          "output_type": "execute_result",
          "data": {
            "text/plain": [
              "(100, 8)"
            ]
          },
          "metadata": {
            "tags": []
          },
          "execution_count": 40
        }
      ]
    },
    {
      "cell_type": "code",
      "metadata": {
        "id": "GTtYhNqab_un",
        "colab_type": "code",
        "colab": {}
      },
      "source": [
        "# setting option to view all the rows from the df (merge)\n",
        "pd.set_option('display.max_rows', 100)"
      ],
      "execution_count": 0,
      "outputs": []
    },
    {
      "cell_type": "code",
      "metadata": {
        "id": "1nODvrbCb9PU",
        "colab_type": "code",
        "outputId": "ce797bf8-f68e-4e79-b492-6db5d8d4089a",
        "colab": {
          "base_uri": "https://localhost:8080/",
          "height": 1000
        }
      },
      "source": [
        "merge"
      ],
      "execution_count": 42,
      "outputs": [
        {
          "output_type": "execute_result",
          "data": {
            "text/html": [
              "<div>\n",
              "<style scoped>\n",
              "    .dataframe tbody tr th:only-of-type {\n",
              "        vertical-align: middle;\n",
              "    }\n",
              "\n",
              "    .dataframe tbody tr th {\n",
              "        vertical-align: top;\n",
              "    }\n",
              "\n",
              "    .dataframe thead th {\n",
              "        text-align: right;\n",
              "    }\n",
              "</style>\n",
              "<table border=\"1\" class=\"dataframe\">\n",
              "  <thead>\n",
              "    <tr style=\"text-align: right;\">\n",
              "      <th></th>\n",
              "      <th>Rank</th>\n",
              "      <th>Name</th>\n",
              "      <th>Pay</th>\n",
              "      <th>Salary/Winnings</th>\n",
              "      <th>Endorsements</th>\n",
              "      <th>Sport</th>\n",
              "      <th>Gender</th>\n",
              "      <th>Country</th>\n",
              "    </tr>\n",
              "  </thead>\n",
              "  <tbody>\n",
              "    <tr>\n",
              "      <th>0</th>\n",
              "      <td>1</td>\n",
              "      <td>Floyd Mayweather</td>\n",
              "      <td>285000000</td>\n",
              "      <td>275000000</td>\n",
              "      <td>10000000</td>\n",
              "      <td>Boxing</td>\n",
              "      <td>M</td>\n",
              "      <td>U.S.</td>\n",
              "    </tr>\n",
              "    <tr>\n",
              "      <th>1</th>\n",
              "      <td>2</td>\n",
              "      <td>Lionel Messi</td>\n",
              "      <td>111000000</td>\n",
              "      <td>84000000</td>\n",
              "      <td>27000000</td>\n",
              "      <td>Soccer</td>\n",
              "      <td>M</td>\n",
              "      <td>Argentina</td>\n",
              "    </tr>\n",
              "    <tr>\n",
              "      <th>2</th>\n",
              "      <td>3</td>\n",
              "      <td>Cristiano Ronaldo</td>\n",
              "      <td>108000000</td>\n",
              "      <td>61000000</td>\n",
              "      <td>47000000</td>\n",
              "      <td>Soccer</td>\n",
              "      <td>M</td>\n",
              "      <td>Portugal</td>\n",
              "    </tr>\n",
              "    <tr>\n",
              "      <th>3</th>\n",
              "      <td>4</td>\n",
              "      <td>Conor McGregor</td>\n",
              "      <td>99000000</td>\n",
              "      <td>85000000</td>\n",
              "      <td>14000000</td>\n",
              "      <td>Mixed Martial Arts</td>\n",
              "      <td>M</td>\n",
              "      <td>Ireland</td>\n",
              "    </tr>\n",
              "    <tr>\n",
              "      <th>4</th>\n",
              "      <td>5</td>\n",
              "      <td>Neymar</td>\n",
              "      <td>90000000</td>\n",
              "      <td>73000000</td>\n",
              "      <td>17000000</td>\n",
              "      <td>Soccer</td>\n",
              "      <td>M</td>\n",
              "      <td>Brazil</td>\n",
              "    </tr>\n",
              "    <tr>\n",
              "      <th>5</th>\n",
              "      <td>6</td>\n",
              "      <td>LeBron James</td>\n",
              "      <td>85500000</td>\n",
              "      <td>33500000</td>\n",
              "      <td>52000000</td>\n",
              "      <td>Basketball</td>\n",
              "      <td>M</td>\n",
              "      <td>U.S.</td>\n",
              "    </tr>\n",
              "    <tr>\n",
              "      <th>6</th>\n",
              "      <td>7</td>\n",
              "      <td>Roger Federer</td>\n",
              "      <td>77200000</td>\n",
              "      <td>12200000</td>\n",
              "      <td>65000000</td>\n",
              "      <td>Tennis</td>\n",
              "      <td>M</td>\n",
              "      <td>Switzerland</td>\n",
              "    </tr>\n",
              "    <tr>\n",
              "      <th>7</th>\n",
              "      <td>8</td>\n",
              "      <td>Stephen Curry</td>\n",
              "      <td>76900000</td>\n",
              "      <td>34900000</td>\n",
              "      <td>42000000</td>\n",
              "      <td>Basketball</td>\n",
              "      <td>M</td>\n",
              "      <td>U.S.</td>\n",
              "    </tr>\n",
              "    <tr>\n",
              "      <th>8</th>\n",
              "      <td>9</td>\n",
              "      <td>Matt Ryan</td>\n",
              "      <td>67300000</td>\n",
              "      <td>62300000</td>\n",
              "      <td>5000000</td>\n",
              "      <td>Football</td>\n",
              "      <td>M</td>\n",
              "      <td>U.S.</td>\n",
              "    </tr>\n",
              "    <tr>\n",
              "      <th>9</th>\n",
              "      <td>10</td>\n",
              "      <td>Matthew Stafford</td>\n",
              "      <td>59500000</td>\n",
              "      <td>57500000</td>\n",
              "      <td>2000000</td>\n",
              "      <td>Football</td>\n",
              "      <td>M</td>\n",
              "      <td>U.S.</td>\n",
              "    </tr>\n",
              "    <tr>\n",
              "      <th>10</th>\n",
              "      <td>11</td>\n",
              "      <td>Kevin Durant</td>\n",
              "      <td>57300000</td>\n",
              "      <td>25300000</td>\n",
              "      <td>32000000</td>\n",
              "      <td>Basketball</td>\n",
              "      <td>M</td>\n",
              "      <td>U.S.</td>\n",
              "    </tr>\n",
              "    <tr>\n",
              "      <th>11</th>\n",
              "      <td>12</td>\n",
              "      <td>Lewis Hamilton</td>\n",
              "      <td>51000000</td>\n",
              "      <td>42000000</td>\n",
              "      <td>9000000</td>\n",
              "      <td>Auto Racing</td>\n",
              "      <td>M</td>\n",
              "      <td>U.K.</td>\n",
              "    </tr>\n",
              "    <tr>\n",
              "      <th>12</th>\n",
              "      <td>13</td>\n",
              "      <td>Russell Westbrook</td>\n",
              "      <td>47600000</td>\n",
              "      <td>28600000</td>\n",
              "      <td>19000000</td>\n",
              "      <td>Basketball</td>\n",
              "      <td>M</td>\n",
              "      <td>U.S.</td>\n",
              "    </tr>\n",
              "    <tr>\n",
              "      <th>13</th>\n",
              "      <td>14</td>\n",
              "      <td>James Harden</td>\n",
              "      <td>46400000</td>\n",
              "      <td>28400000</td>\n",
              "      <td>18000000</td>\n",
              "      <td>Basketball</td>\n",
              "      <td>M</td>\n",
              "      <td>U.S.</td>\n",
              "    </tr>\n",
              "    <tr>\n",
              "      <th>14</th>\n",
              "      <td>15</td>\n",
              "      <td>Canelo Alvarez</td>\n",
              "      <td>44500000</td>\n",
              "      <td>42000000</td>\n",
              "      <td>2500000</td>\n",
              "      <td>Boxing</td>\n",
              "      <td>M</td>\n",
              "      <td>Mexico</td>\n",
              "    </tr>\n",
              "    <tr>\n",
              "      <th>15</th>\n",
              "      <td>16</td>\n",
              "      <td>Tiger Woods</td>\n",
              "      <td>43300000</td>\n",
              "      <td>1300000</td>\n",
              "      <td>42000000</td>\n",
              "      <td>Golf</td>\n",
              "      <td>M</td>\n",
              "      <td>U.S.</td>\n",
              "    </tr>\n",
              "    <tr>\n",
              "      <th>16</th>\n",
              "      <td>17</td>\n",
              "      <td>Drew Brees</td>\n",
              "      <td>42900000</td>\n",
              "      <td>29900000</td>\n",
              "      <td>13000000</td>\n",
              "      <td>Football</td>\n",
              "      <td>M</td>\n",
              "      <td>U.S.</td>\n",
              "    </tr>\n",
              "    <tr>\n",
              "      <th>17</th>\n",
              "      <td>18</td>\n",
              "      <td>Sebastian Vettel</td>\n",
              "      <td>42300000</td>\n",
              "      <td>42000000</td>\n",
              "      <td>300000</td>\n",
              "      <td>Auto Racing</td>\n",
              "      <td>M</td>\n",
              "      <td>Germany</td>\n",
              "    </tr>\n",
              "    <tr>\n",
              "      <th>18</th>\n",
              "      <td>19</td>\n",
              "      <td>Derek Carr</td>\n",
              "      <td>42100000</td>\n",
              "      <td>40100000</td>\n",
              "      <td>2000000</td>\n",
              "      <td>Football</td>\n",
              "      <td>M</td>\n",
              "      <td>U.S.</td>\n",
              "    </tr>\n",
              "    <tr>\n",
              "      <th>19</th>\n",
              "      <td>20</td>\n",
              "      <td>Rafael Nadal</td>\n",
              "      <td>41400000</td>\n",
              "      <td>14400000</td>\n",
              "      <td>27000000</td>\n",
              "      <td>Tennis</td>\n",
              "      <td>M</td>\n",
              "      <td>Spain</td>\n",
              "    </tr>\n",
              "    <tr>\n",
              "      <th>20</th>\n",
              "      <td>20</td>\n",
              "      <td>Alex Smith</td>\n",
              "      <td>41400000</td>\n",
              "      <td>40400000</td>\n",
              "      <td>1000000</td>\n",
              "      <td>Football</td>\n",
              "      <td>M</td>\n",
              "      <td>U.S.</td>\n",
              "    </tr>\n",
              "    <tr>\n",
              "      <th>21</th>\n",
              "      <td>22</td>\n",
              "      <td>Phil Mickelson</td>\n",
              "      <td>41300000</td>\n",
              "      <td>4300000</td>\n",
              "      <td>37000000</td>\n",
              "      <td>Golf</td>\n",
              "      <td>M</td>\n",
              "      <td>U.S.</td>\n",
              "    </tr>\n",
              "    <tr>\n",
              "      <th>22</th>\n",
              "      <td>23</td>\n",
              "      <td>Jordan Spieth</td>\n",
              "      <td>41200000</td>\n",
              "      <td>11200000</td>\n",
              "      <td>30000000</td>\n",
              "      <td>Golf</td>\n",
              "      <td>M</td>\n",
              "      <td>U.S.</td>\n",
              "    </tr>\n",
              "    <tr>\n",
              "      <th>23</th>\n",
              "      <td>24</td>\n",
              "      <td>Damian Lillard</td>\n",
              "      <td>39200000</td>\n",
              "      <td>26200000</td>\n",
              "      <td>13000000</td>\n",
              "      <td>Basketball</td>\n",
              "      <td>M</td>\n",
              "      <td>U.S.</td>\n",
              "    </tr>\n",
              "    <tr>\n",
              "      <th>24</th>\n",
              "      <td>25</td>\n",
              "      <td>Anthony Joshua</td>\n",
              "      <td>39000000</td>\n",
              "      <td>32000000</td>\n",
              "      <td>7000000</td>\n",
              "      <td>Boxing</td>\n",
              "      <td>M</td>\n",
              "      <td>U.K.</td>\n",
              "    </tr>\n",
              "    <tr>\n",
              "      <th>25</th>\n",
              "      <td>26</td>\n",
              "      <td>Rory McIlroy</td>\n",
              "      <td>37700000</td>\n",
              "      <td>3700000</td>\n",
              "      <td>34000000</td>\n",
              "      <td>Golf</td>\n",
              "      <td>M</td>\n",
              "      <td>U.K.</td>\n",
              "    </tr>\n",
              "    <tr>\n",
              "      <th>26</th>\n",
              "      <td>27</td>\n",
              "      <td>Trumaine Johnson</td>\n",
              "      <td>37000000</td>\n",
              "      <td>36800000</td>\n",
              "      <td>250000</td>\n",
              "      <td>Football</td>\n",
              "      <td>M</td>\n",
              "      <td>U.S.</td>\n",
              "    </tr>\n",
              "    <tr>\n",
              "      <th>27</th>\n",
              "      <td>28</td>\n",
              "      <td>Jimmy Garoppolo</td>\n",
              "      <td>36200000</td>\n",
              "      <td>36000000</td>\n",
              "      <td>200000</td>\n",
              "      <td>Football</td>\n",
              "      <td>M</td>\n",
              "      <td>U.S.</td>\n",
              "    </tr>\n",
              "    <tr>\n",
              "      <th>28</th>\n",
              "      <td>29</td>\n",
              "      <td>Kyrie Irving</td>\n",
              "      <td>36100000</td>\n",
              "      <td>19100000</td>\n",
              "      <td>17000000</td>\n",
              "      <td>Basketball</td>\n",
              "      <td>M</td>\n",
              "      <td>U.S.</td>\n",
              "    </tr>\n",
              "    <tr>\n",
              "      <th>29</th>\n",
              "      <td>30</td>\n",
              "      <td>Giannis Antetokounmpo</td>\n",
              "      <td>35500000</td>\n",
              "      <td>22500000</td>\n",
              "      <td>13000000</td>\n",
              "      <td>Basketball</td>\n",
              "      <td>M</td>\n",
              "      <td>Greece</td>\n",
              "    </tr>\n",
              "    <tr>\n",
              "      <th>30</th>\n",
              "      <td>30</td>\n",
              "      <td>Blake Griffin</td>\n",
              "      <td>35500000</td>\n",
              "      <td>29500000</td>\n",
              "      <td>6000000</td>\n",
              "      <td>Basketball</td>\n",
              "      <td>M</td>\n",
              "      <td>U.S.</td>\n",
              "    </tr>\n",
              "    <tr>\n",
              "      <th>31</th>\n",
              "      <td>32</td>\n",
              "      <td>Ryan Tannehill</td>\n",
              "      <td>35200000</td>\n",
              "      <td>34700000</td>\n",
              "      <td>500000</td>\n",
              "      <td>Football</td>\n",
              "      <td>M</td>\n",
              "      <td>U.S.</td>\n",
              "    </tr>\n",
              "    <tr>\n",
              "      <th>32</th>\n",
              "      <td>33</td>\n",
              "      <td>Von Miller</td>\n",
              "      <td>35100000</td>\n",
              "      <td>33100000</td>\n",
              "      <td>2000000</td>\n",
              "      <td>Football</td>\n",
              "      <td>M</td>\n",
              "      <td>U.S.</td>\n",
              "    </tr>\n",
              "    <tr>\n",
              "      <th>33</th>\n",
              "      <td>34</td>\n",
              "      <td>Anthony Davis</td>\n",
              "      <td>34900000</td>\n",
              "      <td>23900000</td>\n",
              "      <td>11000000</td>\n",
              "      <td>Basketball</td>\n",
              "      <td>M</td>\n",
              "      <td>U.S.</td>\n",
              "    </tr>\n",
              "    <tr>\n",
              "      <th>34</th>\n",
              "      <td>35</td>\n",
              "      <td>Gareth Bale</td>\n",
              "      <td>34600000</td>\n",
              "      <td>28600000</td>\n",
              "      <td>6000000</td>\n",
              "      <td>Soccer</td>\n",
              "      <td>M</td>\n",
              "      <td>U.K.</td>\n",
              "    </tr>\n",
              "    <tr>\n",
              "      <th>35</th>\n",
              "      <td>35</td>\n",
              "      <td>Kei Nishikori</td>\n",
              "      <td>34600000</td>\n",
              "      <td>1600000</td>\n",
              "      <td>33000000</td>\n",
              "      <td>Tennis</td>\n",
              "      <td>M</td>\n",
              "      <td>Japan</td>\n",
              "    </tr>\n",
              "    <tr>\n",
              "      <th>36</th>\n",
              "      <td>37</td>\n",
              "      <td>Clayton Kershaw</td>\n",
              "      <td>34500000</td>\n",
              "      <td>33800000</td>\n",
              "      <td>750000</td>\n",
              "      <td>Baseball</td>\n",
              "      <td>M</td>\n",
              "      <td>U.S.</td>\n",
              "    </tr>\n",
              "    <tr>\n",
              "      <th>37</th>\n",
              "      <td>38</td>\n",
              "      <td>Carmelo Anthony</td>\n",
              "      <td>33200000</td>\n",
              "      <td>26200000</td>\n",
              "      <td>7000000</td>\n",
              "      <td>Basketball</td>\n",
              "      <td>M</td>\n",
              "      <td>U.S.</td>\n",
              "    </tr>\n",
              "    <tr>\n",
              "      <th>38</th>\n",
              "      <td>39</td>\n",
              "      <td>Fernando Alonso</td>\n",
              "      <td>33000000</td>\n",
              "      <td>32000000</td>\n",
              "      <td>1000000</td>\n",
              "      <td>Auto Racing</td>\n",
              "      <td>M</td>\n",
              "      <td>Spain</td>\n",
              "    </tr>\n",
              "    <tr>\n",
              "      <th>39</th>\n",
              "      <td>39</td>\n",
              "      <td>Demar DeRozan</td>\n",
              "      <td>33000000</td>\n",
              "      <td>27500000</td>\n",
              "      <td>5500000</td>\n",
              "      <td>Basketball</td>\n",
              "      <td>M</td>\n",
              "      <td>NaN</td>\n",
              "    </tr>\n",
              "    <tr>\n",
              "      <th>40</th>\n",
              "      <td>41</td>\n",
              "      <td>Chris Paul</td>\n",
              "      <td>31900000</td>\n",
              "      <td>24900000</td>\n",
              "      <td>7000000</td>\n",
              "      <td>Basketball</td>\n",
              "      <td>M</td>\n",
              "      <td>U.S.</td>\n",
              "    </tr>\n",
              "    <tr>\n",
              "      <th>41</th>\n",
              "      <td>42</td>\n",
              "      <td>Paul Millsap</td>\n",
              "      <td>31800000</td>\n",
              "      <td>31300000</td>\n",
              "      <td>500000</td>\n",
              "      <td>Basketball</td>\n",
              "      <td>M</td>\n",
              "      <td>U.S.</td>\n",
              "    </tr>\n",
              "    <tr>\n",
              "      <th>42</th>\n",
              "      <td>42</td>\n",
              "      <td>Dwyane Wade</td>\n",
              "      <td>31800000</td>\n",
              "      <td>17800000</td>\n",
              "      <td>14000000</td>\n",
              "      <td>Basketball</td>\n",
              "      <td>M</td>\n",
              "      <td>U.S.</td>\n",
              "    </tr>\n",
              "    <tr>\n",
              "      <th>43</th>\n",
              "      <td>44</td>\n",
              "      <td>Klay Thompson</td>\n",
              "      <td>31100000</td>\n",
              "      <td>18100000</td>\n",
              "      <td>13000000</td>\n",
              "      <td>Basketball</td>\n",
              "      <td>M</td>\n",
              "      <td>U.S.</td>\n",
              "    </tr>\n",
              "    <tr>\n",
              "      <th>44</th>\n",
              "      <td>45</td>\n",
              "      <td>Usain Bolt</td>\n",
              "      <td>31000000</td>\n",
              "      <td>1000000</td>\n",
              "      <td>30000000</td>\n",
              "      <td>Track</td>\n",
              "      <td>M</td>\n",
              "      <td>Jamaica</td>\n",
              "    </tr>\n",
              "    <tr>\n",
              "      <th>45</th>\n",
              "      <td>46</td>\n",
              "      <td>Gordon Hayward</td>\n",
              "      <td>30800000</td>\n",
              "      <td>29800000</td>\n",
              "      <td>1000000</td>\n",
              "      <td>Basketbal</td>\n",
              "      <td>M</td>\n",
              "      <td>U.S.</td>\n",
              "    </tr>\n",
              "    <tr>\n",
              "      <th>46</th>\n",
              "      <td>47</td>\n",
              "      <td>David Price</td>\n",
              "      <td>30700000</td>\n",
              "      <td>30000000</td>\n",
              "      <td>650000</td>\n",
              "      <td>Baseball</td>\n",
              "      <td>M</td>\n",
              "      <td>U.S.</td>\n",
              "    </tr>\n",
              "    <tr>\n",
              "      <th>47</th>\n",
              "      <td>48</td>\n",
              "      <td>Kyle Lowry</td>\n",
              "      <td>30500000</td>\n",
              "      <td>29000000</td>\n",
              "      <td>1500000</td>\n",
              "      <td>Basketball</td>\n",
              "      <td>M</td>\n",
              "      <td>U.S.</td>\n",
              "    </tr>\n",
              "    <tr>\n",
              "      <th>48</th>\n",
              "      <td>49</td>\n",
              "      <td>Albert Pujols</td>\n",
              "      <td>30300000</td>\n",
              "      <td>29300000</td>\n",
              "      <td>1000000</td>\n",
              "      <td>Baseball</td>\n",
              "      <td>M</td>\n",
              "      <td>Dominican Republic</td>\n",
              "    </tr>\n",
              "    <tr>\n",
              "      <th>49</th>\n",
              "      <td>50</td>\n",
              "      <td>Mike Conley</td>\n",
              "      <td>30000000</td>\n",
              "      <td>28500000</td>\n",
              "      <td>1500000</td>\n",
              "      <td>Basketball</td>\n",
              "      <td>M</td>\n",
              "      <td>U.S.</td>\n",
              "    </tr>\n",
              "    <tr>\n",
              "      <th>50</th>\n",
              "      <td>51</td>\n",
              "      <td>Al Horford</td>\n",
              "      <td>29800000</td>\n",
              "      <td>27800000</td>\n",
              "      <td>2000000</td>\n",
              "      <td>Basketball</td>\n",
              "      <td>M</td>\n",
              "      <td>Dominican Republic</td>\n",
              "    </tr>\n",
              "    <tr>\n",
              "      <th>51</th>\n",
              "      <td>52</td>\n",
              "      <td>Paul Pogba</td>\n",
              "      <td>29500000</td>\n",
              "      <td>25000000</td>\n",
              "      <td>4500000</td>\n",
              "      <td>Soccer</td>\n",
              "      <td>M</td>\n",
              "      <td>France</td>\n",
              "    </tr>\n",
              "    <tr>\n",
              "      <th>52</th>\n",
              "      <td>53</td>\n",
              "      <td>Justin Verlander</td>\n",
              "      <td>29400000</td>\n",
              "      <td>28400000</td>\n",
              "      <td>1000000</td>\n",
              "      <td>Baseball</td>\n",
              "      <td>M</td>\n",
              "      <td>U.S.</td>\n",
              "    </tr>\n",
              "    <tr>\n",
              "      <th>53</th>\n",
              "      <td>54</td>\n",
              "      <td>Miguel Cabrera</td>\n",
              "      <td>29200000</td>\n",
              "      <td>28700000</td>\n",
              "      <td>500000</td>\n",
              "      <td>Baseball</td>\n",
              "      <td>M</td>\n",
              "      <td>Venezuela</td>\n",
              "    </tr>\n",
              "    <tr>\n",
              "      <th>54</th>\n",
              "      <td>55</td>\n",
              "      <td>Kirk Cousins</td>\n",
              "      <td>28400000</td>\n",
              "      <td>26900000</td>\n",
              "      <td>1500000</td>\n",
              "      <td>Football</td>\n",
              "      <td>M</td>\n",
              "      <td>U.S.</td>\n",
              "    </tr>\n",
              "    <tr>\n",
              "      <th>55</th>\n",
              "      <td>56</td>\n",
              "      <td>Oscar</td>\n",
              "      <td>27400000</td>\n",
              "      <td>25900000</td>\n",
              "      <td>1500000</td>\n",
              "      <td>Soccer</td>\n",
              "      <td>M</td>\n",
              "      <td>Brazil</td>\n",
              "    </tr>\n",
              "    <tr>\n",
              "      <th>56</th>\n",
              "      <td>57</td>\n",
              "      <td>Paul George</td>\n",
              "      <td>27100000</td>\n",
              "      <td>19600000</td>\n",
              "      <td>7500000</td>\n",
              "      <td>Basketball</td>\n",
              "      <td>M</td>\n",
              "      <td>U.S.</td>\n",
              "    </tr>\n",
              "    <tr>\n",
              "      <th>57</th>\n",
              "      <td>58</td>\n",
              "      <td>Dwight Howard</td>\n",
              "      <td>27000000</td>\n",
              "      <td>23500000</td>\n",
              "      <td>3500000</td>\n",
              "      <td>Basketball</td>\n",
              "      <td>M</td>\n",
              "      <td>U.S.</td>\n",
              "    </tr>\n",
              "    <tr>\n",
              "      <th>58</th>\n",
              "      <td>58</td>\n",
              "      <td>Wayne Rooney</td>\n",
              "      <td>27000000</td>\n",
              "      <td>22000000</td>\n",
              "      <td>5000000</td>\n",
              "      <td>Soccer</td>\n",
              "      <td>M</td>\n",
              "      <td>U.K.</td>\n",
              "    </tr>\n",
              "    <tr>\n",
              "      <th>59</th>\n",
              "      <td>60</td>\n",
              "      <td>Jrue Holiday</td>\n",
              "      <td>26900000</td>\n",
              "      <td>26700000</td>\n",
              "      <td>250000</td>\n",
              "      <td>Basketball</td>\n",
              "      <td>M</td>\n",
              "      <td>U.S.</td>\n",
              "    </tr>\n",
              "    <tr>\n",
              "      <th>60</th>\n",
              "      <td>60</td>\n",
              "      <td>Kevin Love</td>\n",
              "      <td>26900000</td>\n",
              "      <td>22900000</td>\n",
              "      <td>4000000</td>\n",
              "      <td>Basketball</td>\n",
              "      <td>M</td>\n",
              "      <td>U.S.</td>\n",
              "    </tr>\n",
              "    <tr>\n",
              "      <th>61</th>\n",
              "      <td>60</td>\n",
              "      <td>Luis Suarez</td>\n",
              "      <td>26900000</td>\n",
              "      <td>19900000</td>\n",
              "      <td>7000000</td>\n",
              "      <td>Soccer</td>\n",
              "      <td>M</td>\n",
              "      <td>Uruguay</td>\n",
              "    </tr>\n",
              "    <tr>\n",
              "      <th>62</th>\n",
              "      <td>63</td>\n",
              "      <td>Felix Hernandez</td>\n",
              "      <td>26700000</td>\n",
              "      <td>26300000</td>\n",
              "      <td>400000</td>\n",
              "      <td>Baseball</td>\n",
              "      <td>M</td>\n",
              "      <td>Venezuela</td>\n",
              "    </tr>\n",
              "    <tr>\n",
              "      <th>63</th>\n",
              "      <td>64</td>\n",
              "      <td>Mike Trout</td>\n",
              "      <td>26400000</td>\n",
              "      <td>23900000</td>\n",
              "      <td>2500000</td>\n",
              "      <td>Baseball</td>\n",
              "      <td>M</td>\n",
              "      <td>U.S.</td>\n",
              "    </tr>\n",
              "    <tr>\n",
              "      <th>64</th>\n",
              "      <td>65</td>\n",
              "      <td>Chris Bosh</td>\n",
              "      <td>26300000</td>\n",
              "      <td>25300000</td>\n",
              "      <td>1000000</td>\n",
              "      <td>Basketball</td>\n",
              "      <td>M</td>\n",
              "      <td>U.S.</td>\n",
              "    </tr>\n",
              "    <tr>\n",
              "      <th>65</th>\n",
              "      <td>66</td>\n",
              "      <td>Justin Thomas</td>\n",
              "      <td>26000000</td>\n",
              "      <td>21000000</td>\n",
              "      <td>5000000</td>\n",
              "      <td>Golf</td>\n",
              "      <td>M</td>\n",
              "      <td>U.S.</td>\n",
              "    </tr>\n",
              "    <tr>\n",
              "      <th>66</th>\n",
              "      <td>67</td>\n",
              "      <td>C.J. McCollum</td>\n",
              "      <td>25800000</td>\n",
              "      <td>23800000</td>\n",
              "      <td>2000000</td>\n",
              "      <td>Basketball</td>\n",
              "      <td>M</td>\n",
              "      <td>U.S.</td>\n",
              "    </tr>\n",
              "    <tr>\n",
              "      <th>67</th>\n",
              "      <td>68</td>\n",
              "      <td>Eli Manning</td>\n",
              "      <td>25500000</td>\n",
              "      <td>18500000</td>\n",
              "      <td>7000000</td>\n",
              "      <td>Football</td>\n",
              "      <td>M</td>\n",
              "      <td>U.S.</td>\n",
              "    </tr>\n",
              "    <tr>\n",
              "      <th>68</th>\n",
              "      <td>69</td>\n",
              "      <td>DeAndre Hopkins</td>\n",
              "      <td>25300000</td>\n",
              "      <td>24100000</td>\n",
              "      <td>1200000</td>\n",
              "      <td>Football</td>\n",
              "      <td>M</td>\n",
              "      <td>U.S.</td>\n",
              "    </tr>\n",
              "    <tr>\n",
              "      <th>69</th>\n",
              "      <td>69</td>\n",
              "      <td>Otto Porter, Jr.</td>\n",
              "      <td>25300000</td>\n",
              "      <td>24800000</td>\n",
              "      <td>500000</td>\n",
              "      <td>Basketball</td>\n",
              "      <td>M</td>\n",
              "      <td>NaN</td>\n",
              "    </tr>\n",
              "    <tr>\n",
              "      <th>70</th>\n",
              "      <td>71</td>\n",
              "      <td>Yoenis Cespedes</td>\n",
              "      <td>25200000</td>\n",
              "      <td>24700000</td>\n",
              "      <td>500000</td>\n",
              "      <td>Baseball</td>\n",
              "      <td>M</td>\n",
              "      <td>Cuba</td>\n",
              "    </tr>\n",
              "    <tr>\n",
              "      <th>71</th>\n",
              "      <td>72</td>\n",
              "      <td>Gennady Golovkin</td>\n",
              "      <td>25000000</td>\n",
              "      <td>23000000</td>\n",
              "      <td>2000000</td>\n",
              "      <td>Boxing</td>\n",
              "      <td>M</td>\n",
              "      <td>Kazakhstan</td>\n",
              "    </tr>\n",
              "    <tr>\n",
              "      <th>72</th>\n",
              "      <td>72</td>\n",
              "      <td>Buster Posey</td>\n",
              "      <td>25000000</td>\n",
              "      <td>21500000</td>\n",
              "      <td>3500000</td>\n",
              "      <td>Baseball</td>\n",
              "      <td>M</td>\n",
              "      <td>U.S.</td>\n",
              "    </tr>\n",
              "    <tr>\n",
              "      <th>73</th>\n",
              "      <td>74</td>\n",
              "      <td>Bradley Beal</td>\n",
              "      <td>24900000</td>\n",
              "      <td>23900000</td>\n",
              "      <td>1000000</td>\n",
              "      <td>Basketball</td>\n",
              "      <td>M</td>\n",
              "      <td>U.S.</td>\n",
              "    </tr>\n",
              "    <tr>\n",
              "      <th>74</th>\n",
              "      <td>74</td>\n",
              "      <td>Andre Drummond</td>\n",
              "      <td>24900000</td>\n",
              "      <td>23900000</td>\n",
              "      <td>1000000</td>\n",
              "      <td>Basketball</td>\n",
              "      <td>M</td>\n",
              "      <td>U.S.</td>\n",
              "    </tr>\n",
              "    <tr>\n",
              "      <th>75</th>\n",
              "      <td>76</td>\n",
              "      <td>Harrison Barnes</td>\n",
              "      <td>24600000</td>\n",
              "      <td>23100000</td>\n",
              "      <td>1500000</td>\n",
              "      <td>Basketball</td>\n",
              "      <td>M</td>\n",
              "      <td>U.S.</td>\n",
              "    </tr>\n",
              "    <tr>\n",
              "      <th>76</th>\n",
              "      <td>77</td>\n",
              "      <td>Davante Adams</td>\n",
              "      <td>24500000</td>\n",
              "      <td>24000000</td>\n",
              "      <td>500000</td>\n",
              "      <td>Football</td>\n",
              "      <td>M</td>\n",
              "      <td>U.S.</td>\n",
              "    </tr>\n",
              "    <tr>\n",
              "      <th>77</th>\n",
              "      <td>77</td>\n",
              "      <td>Hassan Whiteside</td>\n",
              "      <td>24500000</td>\n",
              "      <td>23800000</td>\n",
              "      <td>750000</td>\n",
              "      <td>Basketball</td>\n",
              "      <td>M</td>\n",
              "      <td>U.S.</td>\n",
              "    </tr>\n",
              "    <tr>\n",
              "      <th>78</th>\n",
              "      <td>79</td>\n",
              "      <td>Stephon Tuitt</td>\n",
              "      <td>24400000</td>\n",
              "      <td>24200000</td>\n",
              "      <td>200000</td>\n",
              "      <td>Football</td>\n",
              "      <td>M</td>\n",
              "      <td>U.S.</td>\n",
              "    </tr>\n",
              "    <tr>\n",
              "      <th>79</th>\n",
              "      <td>80</td>\n",
              "      <td>Sam Bradford</td>\n",
              "      <td>24300000</td>\n",
              "      <td>24100000</td>\n",
              "      <td>250000</td>\n",
              "      <td>Football</td>\n",
              "      <td>M</td>\n",
              "      <td>U.S.</td>\n",
              "    </tr>\n",
              "    <tr>\n",
              "      <th>80</th>\n",
              "      <td>81</td>\n",
              "      <td>Zack Greinke</td>\n",
              "      <td>24200000</td>\n",
              "      <td>24100000</td>\n",
              "      <td>50000000</td>\n",
              "      <td>Baseball</td>\n",
              "      <td>M</td>\n",
              "      <td>U.S.</td>\n",
              "    </tr>\n",
              "    <tr>\n",
              "      <th>81</th>\n",
              "      <td>82</td>\n",
              "      <td>Chandler Parsons</td>\n",
              "      <td>24100000</td>\n",
              "      <td>23100000</td>\n",
              "      <td>1000000</td>\n",
              "      <td>Basketball</td>\n",
              "      <td>M</td>\n",
              "      <td>U.S.</td>\n",
              "    </tr>\n",
              "    <tr>\n",
              "      <th>82</th>\n",
              "      <td>83</td>\n",
              "      <td>Virat Kohli</td>\n",
              "      <td>24000000</td>\n",
              "      <td>4000000</td>\n",
              "      <td>20000000</td>\n",
              "      <td>Cricket</td>\n",
              "      <td>M</td>\n",
              "      <td>India</td>\n",
              "    </tr>\n",
              "    <tr>\n",
              "      <th>83</th>\n",
              "      <td>84</td>\n",
              "      <td>Marc Gasol</td>\n",
              "      <td>23700000</td>\n",
              "      <td>22700000</td>\n",
              "      <td>1000000</td>\n",
              "      <td>Basketball</td>\n",
              "      <td>M</td>\n",
              "      <td>Spain</td>\n",
              "    </tr>\n",
              "    <tr>\n",
              "      <th>84</th>\n",
              "      <td>84</td>\n",
              "      <td>DeAndre Jordan</td>\n",
              "      <td>23700000</td>\n",
              "      <td>22700000</td>\n",
              "      <td>1000000</td>\n",
              "      <td>Basketball</td>\n",
              "      <td>M</td>\n",
              "      <td>U.S.</td>\n",
              "    </tr>\n",
              "    <tr>\n",
              "      <th>85</th>\n",
              "      <td>86</td>\n",
              "      <td>Steven Adams</td>\n",
              "      <td>23500000</td>\n",
              "      <td>22500000</td>\n",
              "      <td>1000000</td>\n",
              "      <td>Basketball</td>\n",
              "      <td>M</td>\n",
              "      <td>New Zealand</td>\n",
              "    </tr>\n",
              "    <tr>\n",
              "      <th>86</th>\n",
              "      <td>86</td>\n",
              "      <td>Sergio Aguero</td>\n",
              "      <td>23500000</td>\n",
              "      <td>17000000</td>\n",
              "      <td>6000000</td>\n",
              "      <td>Soccer</td>\n",
              "      <td>M</td>\n",
              "      <td>Argentina</td>\n",
              "    </tr>\n",
              "    <tr>\n",
              "      <th>87</th>\n",
              "      <td>86</td>\n",
              "      <td>Novak Djokovic</td>\n",
              "      <td>23500000</td>\n",
              "      <td>1500000</td>\n",
              "      <td>22000000</td>\n",
              "      <td>Tennis</td>\n",
              "      <td>M</td>\n",
              "      <td>Serbia</td>\n",
              "    </tr>\n",
              "    <tr>\n",
              "      <th>88</th>\n",
              "      <td>86</td>\n",
              "      <td>Joe Mauer</td>\n",
              "      <td>23500000</td>\n",
              "      <td>23000000</td>\n",
              "      <td>500000</td>\n",
              "      <td>Baseball</td>\n",
              "      <td>M</td>\n",
              "      <td>U.S.</td>\n",
              "    </tr>\n",
              "    <tr>\n",
              "      <th>89</th>\n",
              "      <td>86</td>\n",
              "      <td>J.J. Redick</td>\n",
              "      <td>23500000</td>\n",
              "      <td>23000000</td>\n",
              "      <td>500000</td>\n",
              "      <td>Basketball</td>\n",
              "      <td>M</td>\n",
              "      <td>U.S.</td>\n",
              "    </tr>\n",
              "    <tr>\n",
              "      <th>90</th>\n",
              "      <td>91</td>\n",
              "      <td>Joey Votto</td>\n",
              "      <td>23400000</td>\n",
              "      <td>23100000</td>\n",
              "      <td>300000</td>\n",
              "      <td>Baseball</td>\n",
              "      <td>M</td>\n",
              "      <td>Canada</td>\n",
              "    </tr>\n",
              "    <tr>\n",
              "      <th>91</th>\n",
              "      <td>92</td>\n",
              "      <td>Jarvis Landry</td>\n",
              "      <td>23200000</td>\n",
              "      <td>22500000</td>\n",
              "      <td>750000</td>\n",
              "      <td>Football</td>\n",
              "      <td>M</td>\n",
              "      <td>U.S.</td>\n",
              "    </tr>\n",
              "    <tr>\n",
              "      <th>92</th>\n",
              "      <td>92</td>\n",
              "      <td>Nate Solder</td>\n",
              "      <td>23200000</td>\n",
              "      <td>23100000</td>\n",
              "      <td>100000</td>\n",
              "      <td>Football</td>\n",
              "      <td>M</td>\n",
              "      <td>U.S.</td>\n",
              "    </tr>\n",
              "    <tr>\n",
              "      <th>93</th>\n",
              "      <td>92</td>\n",
              "      <td>John Wall</td>\n",
              "      <td>23200000</td>\n",
              "      <td>18200000</td>\n",
              "      <td>5000000</td>\n",
              "      <td>Basketball</td>\n",
              "      <td>M</td>\n",
              "      <td>U.S.</td>\n",
              "    </tr>\n",
              "    <tr>\n",
              "      <th>94</th>\n",
              "      <td>95</td>\n",
              "      <td>LaMarcus Aldridge</td>\n",
              "      <td>23100000</td>\n",
              "      <td>21600000</td>\n",
              "      <td>1500000</td>\n",
              "      <td>Basketball</td>\n",
              "      <td>M</td>\n",
              "      <td>U.S.</td>\n",
              "    </tr>\n",
              "    <tr>\n",
              "      <th>95</th>\n",
              "      <td>95</td>\n",
              "      <td>Robinson Cano</td>\n",
              "      <td>23100000</td>\n",
              "      <td>22100000</td>\n",
              "      <td>1000000</td>\n",
              "      <td>Baseball</td>\n",
              "      <td>M</td>\n",
              "      <td>Dominican Republic</td>\n",
              "    </tr>\n",
              "    <tr>\n",
              "      <th>96</th>\n",
              "      <td>95</td>\n",
              "      <td>Brook Lopez</td>\n",
              "      <td>23100000</td>\n",
              "      <td>22600000</td>\n",
              "      <td>500000</td>\n",
              "      <td>Basketball</td>\n",
              "      <td>M</td>\n",
              "      <td>U.S.</td>\n",
              "    </tr>\n",
              "    <tr>\n",
              "      <th>97</th>\n",
              "      <td>95</td>\n",
              "      <td>Masahiro Tanaka</td>\n",
              "      <td>23100000</td>\n",
              "      <td>22100000</td>\n",
              "      <td>1000000</td>\n",
              "      <td>Baseball</td>\n",
              "      <td>M</td>\n",
              "      <td>Japan</td>\n",
              "    </tr>\n",
              "    <tr>\n",
              "      <th>98</th>\n",
              "      <td>99</td>\n",
              "      <td>Melvin Ingram</td>\n",
              "      <td>23000000</td>\n",
              "      <td>22800000</td>\n",
              "      <td>150000</td>\n",
              "      <td>Football</td>\n",
              "      <td>M</td>\n",
              "      <td>U.S.</td>\n",
              "    </tr>\n",
              "    <tr>\n",
              "      <th>99</th>\n",
              "      <td>100</td>\n",
              "      <td>Nicolas Batum</td>\n",
              "      <td>22900000</td>\n",
              "      <td>22400000</td>\n",
              "      <td>500000</td>\n",
              "      <td>Basketball</td>\n",
              "      <td>M</td>\n",
              "      <td>France</td>\n",
              "    </tr>\n",
              "  </tbody>\n",
              "</table>\n",
              "</div>"
            ],
            "text/plain": [
              "   Rank                   Name  ...  Gender               Country\n",
              "0     1       Floyd Mayweather  ...        M                 U.S.\n",
              "1     2           Lionel Messi  ...        M            Argentina\n",
              "2     3      Cristiano Ronaldo  ...        M             Portugal\n",
              "3     4         Conor McGregor  ...        M              Ireland\n",
              "4     5                 Neymar  ...        M               Brazil\n",
              "5     6           LeBron James  ...        M                 U.S.\n",
              "6     7          Roger Federer  ...        M          Switzerland\n",
              "7     8          Stephen Curry  ...        M                 U.S.\n",
              "8     9              Matt Ryan  ...        M                 U.S.\n",
              "9    10       Matthew Stafford  ...        M                 U.S.\n",
              "10   11           Kevin Durant  ...        M                 U.S.\n",
              "11   12         Lewis Hamilton  ...        M                 U.K.\n",
              "12   13      Russell Westbrook  ...        M                 U.S.\n",
              "13   14           James Harden  ...        M                 U.S.\n",
              "14   15         Canelo Alvarez  ...        M               Mexico\n",
              "15   16            Tiger Woods  ...        M                 U.S.\n",
              "16   17             Drew Brees  ...        M                 U.S.\n",
              "17   18       Sebastian Vettel  ...        M              Germany\n",
              "18   19             Derek Carr  ...        M                 U.S.\n",
              "19   20           Rafael Nadal  ...        M                Spain\n",
              "20   20             Alex Smith  ...        M                 U.S.\n",
              "21   22         Phil Mickelson  ...        M                 U.S.\n",
              "22   23          Jordan Spieth  ...        M                 U.S.\n",
              "23   24         Damian Lillard  ...        M                 U.S.\n",
              "24   25         Anthony Joshua  ...        M                 U.K.\n",
              "25   26           Rory McIlroy  ...        M                 U.K.\n",
              "26   27       Trumaine Johnson  ...        M                 U.S.\n",
              "27   28        Jimmy Garoppolo  ...        M                 U.S.\n",
              "28   29           Kyrie Irving  ...        M                 U.S.\n",
              "29   30  Giannis Antetokounmpo  ...        M               Greece\n",
              "30   30          Blake Griffin  ...        M                 U.S.\n",
              "31   32         Ryan Tannehill  ...        M                 U.S.\n",
              "32   33             Von Miller  ...        M                 U.S.\n",
              "33   34          Anthony Davis  ...        M                 U.S.\n",
              "34   35            Gareth Bale  ...        M                 U.K.\n",
              "35   35          Kei Nishikori  ...        M                Japan\n",
              "36   37        Clayton Kershaw  ...        M                 U.S.\n",
              "37   38        Carmelo Anthony  ...        M                 U.S.\n",
              "38   39        Fernando Alonso  ...        M                Spain\n",
              "39   39          Demar DeRozan  ...        M                  NaN\n",
              "40   41             Chris Paul  ...        M                 U.S.\n",
              "41   42           Paul Millsap  ...        M                 U.S.\n",
              "42   42            Dwyane Wade  ...        M                 U.S.\n",
              "43   44          Klay Thompson  ...        M                 U.S.\n",
              "44   45             Usain Bolt  ...        M              Jamaica\n",
              "45   46         Gordon Hayward  ...        M                 U.S.\n",
              "46   47            David Price  ...        M                 U.S.\n",
              "47   48             Kyle Lowry  ...        M                 U.S.\n",
              "48   49          Albert Pujols  ...        M   Dominican Republic\n",
              "49   50            Mike Conley  ...        M                 U.S.\n",
              "50   51             Al Horford  ...        M   Dominican Republic\n",
              "51   52             Paul Pogba  ...        M               France\n",
              "52   53       Justin Verlander  ...        M                 U.S.\n",
              "53   54         Miguel Cabrera  ...        M            Venezuela\n",
              "54   55           Kirk Cousins  ...        M                 U.S.\n",
              "55   56                  Oscar  ...        M               Brazil\n",
              "56   57            Paul George  ...        M                 U.S.\n",
              "57   58          Dwight Howard  ...        M                 U.S.\n",
              "58   58           Wayne Rooney  ...        M                 U.K.\n",
              "59   60           Jrue Holiday  ...        M                 U.S.\n",
              "60   60             Kevin Love  ...        M                 U.S.\n",
              "61   60            Luis Suarez  ...        M              Uruguay\n",
              "62   63        Felix Hernandez  ...        M            Venezuela\n",
              "63   64             Mike Trout  ...        M                 U.S.\n",
              "64   65             Chris Bosh  ...        M                 U.S.\n",
              "65   66          Justin Thomas  ...        M                 U.S.\n",
              "66   67          C.J. McCollum  ...        M                 U.S.\n",
              "67   68            Eli Manning  ...        M                 U.S.\n",
              "68   69        DeAndre Hopkins  ...        M                 U.S.\n",
              "69   69       Otto Porter, Jr.  ...        M                  NaN\n",
              "70   71        Yoenis Cespedes  ...        M                 Cuba\n",
              "71   72       Gennady Golovkin  ...        M           Kazakhstan\n",
              "72   72           Buster Posey  ...        M                 U.S.\n",
              "73   74           Bradley Beal  ...        M                 U.S.\n",
              "74   74         Andre Drummond  ...        M                 U.S.\n",
              "75   76        Harrison Barnes  ...        M                 U.S.\n",
              "76   77          Davante Adams  ...        M                 U.S.\n",
              "77   77       Hassan Whiteside  ...        M                 U.S.\n",
              "78   79          Stephon Tuitt  ...        M                 U.S.\n",
              "79   80           Sam Bradford  ...        M                 U.S.\n",
              "80   81           Zack Greinke  ...        M                 U.S.\n",
              "81   82       Chandler Parsons  ...        M                 U.S.\n",
              "82   83            Virat Kohli  ...        M                India\n",
              "83   84             Marc Gasol  ...        M                Spain\n",
              "84   84         DeAndre Jordan  ...        M                 U.S.\n",
              "85   86           Steven Adams  ...        M          New Zealand\n",
              "86   86          Sergio Aguero  ...        M            Argentina\n",
              "87   86         Novak Djokovic  ...        M               Serbia\n",
              "88   86              Joe Mauer  ...        M                 U.S.\n",
              "89   86            J.J. Redick  ...        M                 U.S.\n",
              "90   91             Joey Votto  ...        M               Canada\n",
              "91   92          Jarvis Landry  ...        M                 U.S.\n",
              "92   92            Nate Solder  ...        M                 U.S.\n",
              "93   92              John Wall  ...        M                 U.S.\n",
              "94   95      LaMarcus Aldridge  ...        M                 U.S.\n",
              "95   95          Robinson Cano  ...        M   Dominican Republic\n",
              "96   95            Brook Lopez  ...        M                 U.S.\n",
              "97   95        Masahiro Tanaka  ...        M                Japan\n",
              "98   99          Melvin Ingram  ...        M                 U.S.\n",
              "99  100          Nicolas Batum  ...        M               France\n",
              "\n",
              "[100 rows x 8 columns]"
            ]
          },
          "metadata": {
            "tags": []
          },
          "execution_count": 42
        }
      ]
    },
    {
      "cell_type": "code",
      "metadata": {
        "id": "A094BpvacbSF",
        "colab_type": "code",
        "outputId": "125125fb-6d97-4c4a-b757-8e1f5e870e78",
        "colab": {
          "base_uri": "https://localhost:8080/",
          "height": 170
        }
      },
      "source": [
        "# checking for null values\n",
        "merge.isnull().sum()"
      ],
      "execution_count": 43,
      "outputs": [
        {
          "output_type": "execute_result",
          "data": {
            "text/plain": [
              "Rank               0\n",
              "Name               0\n",
              "Pay                0\n",
              "Salary/Winnings    0\n",
              "Endorsements       0\n",
              "Sport              0\n",
              "Gender             0\n",
              "Country            2\n",
              "dtype: int64"
            ]
          },
          "metadata": {
            "tags": []
          },
          "execution_count": 43
        }
      ]
    },
    {
      "cell_type": "code",
      "metadata": {
        "id": "rFIIJsbaFnPC",
        "colab_type": "code",
        "outputId": "87b02190-bc14-4e22-a8d9-763166912bf7",
        "colab": {
          "base_uri": "https://localhost:8080/",
          "height": 111
        }
      },
      "source": [
        "# checking (country) dataframe to look for missing values\n",
        "country.loc[[39, 69]]"
      ],
      "execution_count": 44,
      "outputs": [
        {
          "output_type": "execute_result",
          "data": {
            "text/html": [
              "<div>\n",
              "<style scoped>\n",
              "    .dataframe tbody tr th:only-of-type {\n",
              "        vertical-align: middle;\n",
              "    }\n",
              "\n",
              "    .dataframe tbody tr th {\n",
              "        vertical-align: top;\n",
              "    }\n",
              "\n",
              "    .dataframe thead th {\n",
              "        text-align: right;\n",
              "    }\n",
              "</style>\n",
              "<table border=\"1\" class=\"dataframe\">\n",
              "  <thead>\n",
              "    <tr style=\"text-align: right;\">\n",
              "      <th></th>\n",
              "      <th>Name</th>\n",
              "      <th>Country</th>\n",
              "    </tr>\n",
              "  </thead>\n",
              "  <tbody>\n",
              "    <tr>\n",
              "      <th>39</th>\n",
              "      <td>DeMar DeRozan</td>\n",
              "      <td>U.S.</td>\n",
              "    </tr>\n",
              "    <tr>\n",
              "      <th>69</th>\n",
              "      <td>DeAndre Hopkins</td>\n",
              "      <td>U.S.</td>\n",
              "    </tr>\n",
              "  </tbody>\n",
              "</table>\n",
              "</div>"
            ],
            "text/plain": [
              "               Name Country\n",
              "39    DeMar DeRozan    U.S.\n",
              "69  DeAndre Hopkins    U.S."
            ]
          },
          "metadata": {
            "tags": []
          },
          "execution_count": 44
        }
      ]
    },
    {
      "cell_type": "code",
      "metadata": {
        "id": "B00K_yzGFSxi",
        "colab_type": "code",
        "colab": {}
      },
      "source": [
        "# there are two missing values in (Country) column for merge dataframe\n",
        "# those missing values should have (U.S.)\n",
        "merge = merge.fillna('U.S.')"
      ],
      "execution_count": 0,
      "outputs": []
    },
    {
      "cell_type": "code",
      "metadata": {
        "id": "dSfGrgcEF9wH",
        "colab_type": "code",
        "outputId": "16b53d08-1f5e-4109-ce41-041a472e53a5",
        "colab": {
          "base_uri": "https://localhost:8080/",
          "height": 170
        }
      },
      "source": [
        "# checking for null values\n",
        "merge.isnull().sum()"
      ],
      "execution_count": 46,
      "outputs": [
        {
          "output_type": "execute_result",
          "data": {
            "text/plain": [
              "Rank               0\n",
              "Name               0\n",
              "Pay                0\n",
              "Salary/Winnings    0\n",
              "Endorsements       0\n",
              "Sport              0\n",
              "Gender             0\n",
              "Country            0\n",
              "dtype: int64"
            ]
          },
          "metadata": {
            "tags": []
          },
          "execution_count": 46
        }
      ]
    },
    {
      "cell_type": "code",
      "metadata": {
        "id": "rf0rj06yzbMk",
        "colab_type": "code",
        "outputId": "a7a9c699-2423-466b-81f8-b665ec594ccf",
        "colab": {
          "base_uri": "https://localhost:8080/",
          "height": 34
        }
      },
      "source": [
        "# checking to see if the value represented correctly\n",
        "# here we can see a leading space\n",
        "merge['Country'][0]"
      ],
      "execution_count": 47,
      "outputs": [
        {
          "output_type": "execute_result",
          "data": {
            "text/plain": [
              "' U.S.'"
            ]
          },
          "metadata": {
            "tags": []
          },
          "execution_count": 47
        }
      ]
    },
    {
      "cell_type": "code",
      "metadata": {
        "id": "NYUHPHpkzfPO",
        "colab_type": "code",
        "colab": {}
      },
      "source": [
        "# removing the leading space from (Country) column\n",
        "merge['Country'] = merge['Country'].str.strip()"
      ],
      "execution_count": 0,
      "outputs": []
    },
    {
      "cell_type": "code",
      "metadata": {
        "id": "ZyOqRuWRzwdu",
        "colab_type": "code",
        "outputId": "4c4714a8-d2f2-4797-e493-f4c941c7ddbb",
        "colab": {
          "base_uri": "https://localhost:8080/",
          "height": 34
        }
      },
      "source": [
        "# checking\n",
        "merge['Country'][0]"
      ],
      "execution_count": 49,
      "outputs": [
        {
          "output_type": "execute_result",
          "data": {
            "text/plain": [
              "'U.S.'"
            ]
          },
          "metadata": {
            "tags": []
          },
          "execution_count": 49
        }
      ]
    },
    {
      "cell_type": "code",
      "metadata": {
        "id": "sMLmeuWeW1Wi",
        "colab_type": "code",
        "outputId": "7ea47674-4d2e-406e-b8f4-199a13144d6c",
        "colab": {
          "base_uri": "https://localhost:8080/",
          "height": 80
        }
      },
      "source": [
        "# one the sports name is misspelled\n",
        "merge[merge['Sport'] == 'Basketbal']"
      ],
      "execution_count": 50,
      "outputs": [
        {
          "output_type": "execute_result",
          "data": {
            "text/html": [
              "<div>\n",
              "<style scoped>\n",
              "    .dataframe tbody tr th:only-of-type {\n",
              "        vertical-align: middle;\n",
              "    }\n",
              "\n",
              "    .dataframe tbody tr th {\n",
              "        vertical-align: top;\n",
              "    }\n",
              "\n",
              "    .dataframe thead th {\n",
              "        text-align: right;\n",
              "    }\n",
              "</style>\n",
              "<table border=\"1\" class=\"dataframe\">\n",
              "  <thead>\n",
              "    <tr style=\"text-align: right;\">\n",
              "      <th></th>\n",
              "      <th>Rank</th>\n",
              "      <th>Name</th>\n",
              "      <th>Pay</th>\n",
              "      <th>Salary/Winnings</th>\n",
              "      <th>Endorsements</th>\n",
              "      <th>Sport</th>\n",
              "      <th>Gender</th>\n",
              "      <th>Country</th>\n",
              "    </tr>\n",
              "  </thead>\n",
              "  <tbody>\n",
              "    <tr>\n",
              "      <th>45</th>\n",
              "      <td>46</td>\n",
              "      <td>Gordon Hayward</td>\n",
              "      <td>30800000</td>\n",
              "      <td>29800000</td>\n",
              "      <td>1000000</td>\n",
              "      <td>Basketbal</td>\n",
              "      <td>M</td>\n",
              "      <td>U.S.</td>\n",
              "    </tr>\n",
              "  </tbody>\n",
              "</table>\n",
              "</div>"
            ],
            "text/plain": [
              "   Rank            Name       Pay  ...      Sport  Gender  Country\n",
              "45   46  Gordon Hayward  30800000  ...  Basketbal        M    U.S.\n",
              "\n",
              "[1 rows x 8 columns]"
            ]
          },
          "metadata": {
            "tags": []
          },
          "execution_count": 50
        }
      ]
    },
    {
      "cell_type": "code",
      "metadata": {
        "id": "rB3ZtwxQXKw_",
        "colab_type": "code",
        "colab": {}
      },
      "source": [
        "# correcting the misspelled word\n",
        "merge['Sport'] = merge['Sport'].replace('Basketbal', 'Basketball')"
      ],
      "execution_count": 0,
      "outputs": []
    },
    {
      "cell_type": "code",
      "metadata": {
        "id": "_0tYRV12o5JK",
        "colab_type": "code",
        "outputId": "d7052f0f-ee3b-47b0-cef1-ced6213464b3",
        "colab": {
          "base_uri": "https://localhost:8080/",
          "height": 458
        }
      },
      "source": [
        "# plot of the highest paid athletes in 2018\n",
        "fig, ax = plt.subplots()\n",
        "fig.set_size_inches(10, 7)\n",
        "sns.barplot(x=\"Pay\",y=\"Name\",\n",
        "           data=merge.sort_values(by=\"Pay\",ascending=False)[:25],\n",
        "           palette=\"Set1\")\n",
        "plt.xlabel(\"Pay in Dollars(millions)\")\n",
        "plt.ylabel('')\n",
        "ax.set_xticklabels([0, 50, 100, 150, 200, 250])\n",
        "plt.title(\"Top 25 Highest paid athletes for 2018\")\n",
        "\n",
        "plt.show()"
      ],
      "execution_count": 52,
      "outputs": [
        {
          "output_type": "display_data",
          "data": {
            "image/png": "[encoded data removed]",
            "text/plain": [
              "<Figure size 720x504 with 1 Axes>"
            ]
          },
          "metadata": {
            "tags": [],
            "needs_background": "light"
          }
        }
      ]
    },
    {
      "cell_type": "code",
      "metadata": {
        "id": "H9kUqyTTqkwh",
        "colab_type": "code",
        "outputId": "76639455-d618-4f86-da13-41ee599edfdd",
        "colab": {
          "base_uri": "https://localhost:8080/",
          "height": 591
        }
      },
      "source": [
        "# countries with highest paid athletes\n",
        "merge['Country'].value_counts().plot(kind='pie', figsize=(15, 10))\n",
        "plt.title(\"How many athletes represent U.S amongst the top 100 Highest-paid athletes\")\n",
        "plt.ylabel('')\n",
        "plt.show()"
      ],
      "execution_count": 60,
      "outputs": [
        {
          "output_type": "display_data",
          "data": {
            "image/png": "[encoded data removed]",
            "text/plain": [
              "<Figure size 1080x720 with 1 Axes>"
            ]
          },
          "metadata": {
            "tags": []
          }
        }
      ]
    },
    {
      "cell_type": "code",
      "metadata": {
        "id": "eR-5_4t-NawD",
        "colab_type": "code",
        "outputId": "6ce7856e-e553-49fa-f5d7-8fb2901056ec",
        "colab": {
          "base_uri": "https://localhost:8080/",
          "height": 525
        }
      },
      "source": [
        "# plot highest paying sports in 2018\n",
        "fig, ax = plt.subplots()\n",
        "fig.set_size_inches(10, 7)\n",
        "merge.groupby('Sport')['Pay'].sum().sort_values(ascending=False).plot(kind='bar', color='green')\n",
        "plt.title(\"Highest paying Sports in 2018\")\n",
        "plt.ylabel(\"Pays in Dollar (millions)\")\n",
        "ax.set_yticklabels([0, 200, 400, 600, 800, 1000, 1200])\n",
        "plt.xlabel('')\n",
        "plt.show()"
      ],
      "execution_count": 61,
      "outputs": [
        {
          "output_type": "display_data",
          "data": {
            "image/png": "[encoded data removed]",
            "text/plain": [
              "<Figure size 720x504 with 1 Axes>"
            ]
          },
          "metadata": {
            "tags": [],
            "needs_background": "light"
          }
        }
      ]
    },
    {
      "cell_type": "code",
      "metadata": {
        "id": "I8lcCn6bqZ7U",
        "colab_type": "code",
        "colab": {}
      },
      "source": [
        "top25 = merge.head(25)\n",
        "top25  = top25.sort_values(by='Pay')"
      ],
      "execution_count": 0,
      "outputs": []
    },
    {
      "cell_type": "code",
      "metadata": {
        "id": "HzbRUEixyYGz",
        "colab_type": "code",
        "colab": {}
      },
      "source": [
        "top25 = top25.reset_index()"
      ],
      "execution_count": 0,
      "outputs": []
    },
    {
      "cell_type": "code",
      "metadata": {
        "id": "wPtWUPbUydTJ",
        "colab_type": "code",
        "outputId": "29b810c3-1d00-45b2-a1f8-5cde023bc622",
        "colab": {
          "base_uri": "https://localhost:8080/",
          "height": 204
        }
      },
      "source": [
        "top25.head()"
      ],
      "execution_count": 55,
      "outputs": [
        {
          "output_type": "execute_result",
          "data": {
            "text/html": [
              "<div>\n",
              "<style scoped>\n",
              "    .dataframe tbody tr th:only-of-type {\n",
              "        vertical-align: middle;\n",
              "    }\n",
              "\n",
              "    .dataframe tbody tr th {\n",
              "        vertical-align: top;\n",
              "    }\n",
              "\n",
              "    .dataframe thead th {\n",
              "        text-align: right;\n",
              "    }\n",
              "</style>\n",
              "<table border=\"1\" class=\"dataframe\">\n",
              "  <thead>\n",
              "    <tr style=\"text-align: right;\">\n",
              "      <th></th>\n",
              "      <th>index</th>\n",
              "      <th>Rank</th>\n",
              "      <th>Name</th>\n",
              "      <th>Pay</th>\n",
              "      <th>Salary/Winnings</th>\n",
              "      <th>Endorsements</th>\n",
              "      <th>Sport</th>\n",
              "      <th>Gender</th>\n",
              "      <th>Country</th>\n",
              "    </tr>\n",
              "  </thead>\n",
              "  <tbody>\n",
              "    <tr>\n",
              "      <th>0</th>\n",
              "      <td>24</td>\n",
              "      <td>25</td>\n",
              "      <td>Anthony Joshua</td>\n",
              "      <td>39000000</td>\n",
              "      <td>32000000</td>\n",
              "      <td>7000000</td>\n",
              "      <td>Boxing</td>\n",
              "      <td>M</td>\n",
              "      <td>U.K.</td>\n",
              "    </tr>\n",
              "    <tr>\n",
              "      <th>1</th>\n",
              "      <td>23</td>\n",
              "      <td>24</td>\n",
              "      <td>Damian Lillard</td>\n",
              "      <td>39200000</td>\n",
              "      <td>26200000</td>\n",
              "      <td>13000000</td>\n",
              "      <td>Basketball</td>\n",
              "      <td>M</td>\n",
              "      <td>U.S.</td>\n",
              "    </tr>\n",
              "    <tr>\n",
              "      <th>2</th>\n",
              "      <td>22</td>\n",
              "      <td>23</td>\n",
              "      <td>Jordan Spieth</td>\n",
              "      <td>41200000</td>\n",
              "      <td>11200000</td>\n",
              "      <td>30000000</td>\n",
              "      <td>Golf</td>\n",
              "      <td>M</td>\n",
              "      <td>U.S.</td>\n",
              "    </tr>\n",
              "    <tr>\n",
              "      <th>3</th>\n",
              "      <td>21</td>\n",
              "      <td>22</td>\n",
              "      <td>Phil Mickelson</td>\n",
              "      <td>41300000</td>\n",
              "      <td>4300000</td>\n",
              "      <td>37000000</td>\n",
              "      <td>Golf</td>\n",
              "      <td>M</td>\n",
              "      <td>U.S.</td>\n",
              "    </tr>\n",
              "    <tr>\n",
              "      <th>4</th>\n",
              "      <td>20</td>\n",
              "      <td>20</td>\n",
              "      <td>Alex Smith</td>\n",
              "      <td>41400000</td>\n",
              "      <td>40400000</td>\n",
              "      <td>1000000</td>\n",
              "      <td>Football</td>\n",
              "      <td>M</td>\n",
              "      <td>U.S.</td>\n",
              "    </tr>\n",
              "  </tbody>\n",
              "</table>\n",
              "</div>"
            ],
            "text/plain": [
              "   index Rank            Name  ...       Sport  Gender   Country\n",
              "0     24   25  Anthony Joshua  ...      Boxing        M     U.K.\n",
              "1     23   24  Damian Lillard  ...  Basketball        M     U.S.\n",
              "2     22   23   Jordan Spieth  ...        Golf        M     U.S.\n",
              "3     21   22  Phil Mickelson  ...        Golf        M     U.S.\n",
              "4     20   20      Alex Smith  ...    Football        M     U.S.\n",
              "\n",
              "[5 rows x 9 columns]"
            ]
          },
          "metadata": {
            "tags": []
          },
          "execution_count": 55
        }
      ]
    },
    {
      "cell_type": "code",
      "metadata": {
        "id": "wUmeYYstPgiE",
        "colab_type": "code",
        "outputId": "4596e435-1aa3-42f5-d055-5a808b3d87f0",
        "colab": {
          "base_uri": "https://localhost:8080/",
          "height": 295
        }
      },
      "source": [
        "plt.barh(top25['Name'], top25['Pay'].sort_values(ascending=False))"
      ],
      "execution_count": 56,
      "outputs": [
        {
          "output_type": "execute_result",
          "data": {
            "text/plain": [
              "<BarContainer object of 25 artists>"
            ]
          },
          "metadata": {
            "tags": []
          },
          "execution_count": 56
        },
        {
          "output_type": "display_data",
          "data": {
            "image/png": "[encoded data removed]",
            "text/plain": [
              "<Figure size 432x288 with 1 Axes>"
            ]
          },
          "metadata": {
            "tags": [],
            "needs_background": "light"
          }
        }
      ]
    },
    {
      "cell_type": "code",
      "metadata": {
        "id": "rYNWGuSGxrnk",
        "colab_type": "code",
        "outputId": "de3ad534-fc98-48c2-f900-0327946423fd",
        "colab": {
          "base_uri": "https://localhost:8080/",
          "height": 295
        }
      },
      "source": [
        "\n",
        "plt.barh(top25['Name'][0], top25['Pay'][0], color='blue')\n",
        "plt.barh(top25['Name'][1], top25['Pay'][1], color='lightblue')\n",
        "plt.barh(top25['Name'][2], top25['Pay'][2], color='red')\n",
        "plt.barh(top25['Name'][3], top25['Pay'][3], color='blue')\n",
        "plt.barh(top25['Name'][4], top25['Pay'][4], color='red')\n",
        "plt.barh(top25['Name'][5], top25['Pay'][5], color='blue')\n",
        "plt.barh(top25['Name'][6], top25['Pay'][6], color='red')\n",
        "plt.barh(top25['Name'][7], top25['Pay'][7], color='blue')\n",
        "plt.barh(top25['Name'][8], top25['Pay'][8], color='red')\n",
        "plt.barh(top25['Name'][9], top25['Pay'][9], color='blue')\n",
        "plt.barh(top25['Name'][10], top25['Pay'][10], color='red')\n",
        "plt.barh(top25['Name'][11], top25['Pay'][11], color='blue')\n",
        "plt.barh(top25['Name'][12], top25['Pay'][12], color='red')\n",
        "plt.barh(top25['Name'][13], top25['Pay'][13], color='blue')\n",
        "plt.barh(top25['Name'][14], top25['Pay'][14], color='red')\n",
        "plt.barh(top25['Name'][15], top25['Pay'][15], color='blue')\n",
        "plt.barh(top25['Name'][16], top25['Pay'][16], color='blue')\n",
        "plt.barh(top25['Name'][17], top25['Pay'][17], color='red')\n",
        "plt.barh(top25['Name'][18], top25['Pay'][18], color='blue')\n",
        "plt.barh(top25['Name'][19], top25['Pay'][19], color='red')\n",
        "plt.barh(top25['Name'][20], top25['Pay'][20], color='blue')\n",
        "plt.barh(top25['Name'][21], top25['Pay'][21], color='red')\n",
        "plt.barh(top25['Name'][22], top25['Pay'][22], color='maroon')\n",
        "plt.barh(top25['Name'][23], top25['Pay'][23], color='lightblue')\n",
        "plt.barh(top25['Name'][24], top25['Pay'][24], color='blue')\n"
      ],
      "execution_count": 57,
      "outputs": [
        {
          "output_type": "execute_result",
          "data": {
            "text/plain": [
              "<BarContainer object of 1 artists>"
            ]
          },
          "metadata": {
            "tags": []
          },
          "execution_count": 57
        },
        {
          "output_type": "display_data",
          "data": {
            "image/png": "[encoded data removed]",
            "text/plain": [
              "<Figure size 432x288 with 1 Axes>"
            ]
          },
          "metadata": {
            "tags": [],
            "needs_background": "light"
          }
        }
      ]
    },
    {
      "cell_type": "code",
      "metadata": {
        "id": "D9gZJ4HczIL3",
        "colab_type": "code",
        "colab": {}
      },
      "source": [
        "def plotgraph():\n",
        "  for i in top25:\n",
        "    return plt.barh(top25['Name'][i], top25['Pay'][i])"
      ],
      "execution_count": 0,
      "outputs": []
    },
    {
      "cell_type": "code",
      "metadata": {
        "id": "Gof86CyMzoOQ",
        "colab_type": "code",
        "outputId": "40f9f376-9666-4ce4-a986-fbf5fec96c4b",
        "colab": {
          "base_uri": "https://localhost:8080/",
          "height": 703
        }
      },
      "source": [
        "for i, j in enumerate(top25['Pay']):\n",
        "  print(plt.barh(i, j))\n",
        "  "
      ],
      "execution_count": 59,
      "outputs": [
        {
          "output_type": "stream",
          "text": [
            "<BarContainer object of 1 artists>\n",
            "<BarContainer object of 1 artists>\n",
            "<BarContainer object of 1 artists>\n",
            "<BarContainer object of 1 artists>\n",
            "<BarContainer object of 1 artists>\n",
            "<BarContainer object of 1 artists>\n",
            "<BarContainer object of 1 artists>\n",
            "<BarContainer object of 1 artists>\n",
            "<BarContainer object of 1 artists>\n",
            "<BarContainer object of 1 artists>\n",
            "<BarContainer object of 1 artists>\n",
            "<BarContainer object of 1 artists>\n",
            "<BarContainer object of 1 artists>\n",
            "<BarContainer object of 1 artists>\n",
            "<BarContainer object of 1 artists>\n",
            "<BarContainer object of 1 artists>\n",
            "<BarContainer object of 1 artists>\n",
            "<BarContainer object of 1 artists>\n",
            "<BarContainer object of 1 artists>\n",
            "<BarContainer object of 1 artists>\n",
            "<BarContainer object of 1 artists>\n",
            "<BarContainer object of 1 artists>\n",
            "<BarContainer object of 1 artists>\n",
            "<BarContainer object of 1 artists>\n",
            "<BarContainer object of 1 artists>\n"
          ],
          "name": "stdout"
        },
        {
          "output_type": "display_data",
          "data": {
            "image/png": "[encoded data removed]",
            "text/plain": [
              "<Figure size 432x288 with 1 Axes>"
            ]
          },
          "metadata": {
            "tags": [],
            "needs_background": "light"
          }
        }
      ]
    },
    {
      "cell_type": "code",
      "metadata": {
        "id": "iKkImSrF4iin",
        "colab_type": "code",
        "colab": {}
      },
      "source": [
        "us = pd.crosstab(merge['Sport'], merge['Country'])"
      ],
      "execution_count": 0,
      "outputs": []
    },
    {
      "cell_type": "code",
      "metadata": {
        "id": "juPxXKXP6VBF",
        "colab_type": "code",
        "outputId": "d2a0b095-da5d-4329-a4e9-a54d24f8141a",
        "colab": {
          "base_uri": "https://localhost:8080/",
          "height": 296
        }
      },
      "source": [
        "us['U.S.'].plot()"
      ],
      "execution_count": 63,
      "outputs": [
        {
          "output_type": "execute_result",
          "data": {
            "text/plain": [
              "<matplotlib.axes._subplots.AxesSubplot at 0x7fb35b194588>"
            ]
          },
          "metadata": {
            "tags": []
          },
          "execution_count": 63
        },
        {
          "output_type": "display_data",
          "data": {
            "image/png": "[encoded data removed]",
            "text/plain": [
              "<Figure size 432x288 with 1 Axes>"
            ]
          },
          "metadata": {
            "tags": [],
            "needs_background": "light"
          }
        }
      ]
    },
    {
      "cell_type": "code",
      "metadata": {
        "id": "OGsxDSPizWPT",
        "colab_type": "code",
        "outputId": "586cd3bc-2ff7-4498-f90a-8bd7f0ec2fca",
        "colab": {
          "base_uri": "https://localhost:8080/",
          "height": 163
        }
      },
      "source": [
        ", merge['Sport'].value_counts()"
      ],
      "execution_count": 64,
      "outputs": [
        {
          "output_type": "error",
          "ename": "TypeError",
          "evalue": "ignored",
          "traceback": [
            "\u001b[0;31m---------------------------------------------------------------------------\u001b[0m",
            "\u001b[0;31mTypeError\u001b[0m                                 Traceback (most recent call last)",
            "\u001b[0;32m<ipython-input-64-cead187f82db>\u001b[0m in \u001b[0;36m<module>\u001b[0;34m()\u001b[0m\n\u001b[0;32m----> 1\u001b[0;31m \u001b[0mmerge\u001b[0m\u001b[0;34m(\u001b[0m\u001b[0;34m\"['Sport'].value_counts()\"\u001b[0m\u001b[0;34m)\u001b[0m\u001b[0;34m\u001b[0m\u001b[0;34m\u001b[0m\u001b[0m\n\u001b[0m",
            "\u001b[0;31mTypeError\u001b[0m: 'DataFrame' object is not callable"
          ]
        }
      ]
    },
    {
      "cell_type": "code",
      "metadata": {
        "id": "urJdT3Hak2o8",
        "colab_type": "code",
        "colab": {}
      },
      "source": [
        "people = merge['Name'].iloc[:25]\n",
        "people"
      ],
      "execution_count": 0,
      "outputs": []
    },
    {
      "cell_type": "code",
      "metadata": {
        "id": "nPq_V8aEN0Cl",
        "colab_type": "code",
        "colab": {}
      },
      "source": [
        "sns.barplot(x=\"Endorsements\",y=\"Name\",\n",
        "                 data=merge.sort_values(by=\"Endorsements\",ascending=False)[:15],\n",
        "                 palette=\"Set1\")\n",
        "plt.title(\"Top 15 Highest paid athletes with highest endosement money\",color=\"b\")\n",
        "plt.savefig('highest_endorsement.png', dpi=100)\n",
        "plt.show()\n"
      ],
      "execution_count": 0,
      "outputs": []
    },
    {
      "cell_type": "code",
      "metadata": {
        "id": "pPTYU-PgOweq",
        "colab_type": "code",
        "colab": {}
      },
      "source": [
        "sns.barplot(x='Salary/Winnings', y='Name',\n",
        "            data=merge.sort_values(by='Salary/Winnings', ascending=False)[:15],\n",
        "            palette='husl')\n",
        "plt.title(\"Top 15 Highest paid athletes with the highest salary/winnings money\")\n",
        "plt.show()"
      ],
      "execution_count": 0,
      "outputs": []
    },
    {
      "cell_type": "code",
      "metadata": {
        "id": "wSXVZ4xmg5BL",
        "colab_type": "code",
        "colab": {}
      },
      "source": [
        "# sns.palplot(sns.color_palette('RdBu', n_colors=15))"
      ],
      "execution_count": 0,
      "outputs": []
    },
    {
      "cell_type": "code",
      "metadata": {
        "id": "OWT14qYKv-SS",
        "colab_type": "code",
        "colab": {}
      },
      "source": [
        "# merge1 = merge.copy()"
      ],
      "execution_count": 0,
      "outputs": []
    },
    {
      "cell_type": "code",
      "metadata": {
        "id": "roMQ3f9dxG9u",
        "colab_type": "code",
        "colab": {}
      },
      "source": [
        "# merge1['Country'] = merge1['Country'].replace('U.S.', 'United States of America')"
      ],
      "execution_count": 0,
      "outputs": []
    },
    {
      "cell_type": "code",
      "metadata": {
        "id": "ch5GxtkdwEBc",
        "colab_type": "code",
        "colab": {}
      },
      "source": [
        "# merge1['Country'] = merge1['Country'].replace(' U.S.', 'United States of America')"
      ],
      "execution_count": 0,
      "outputs": []
    },
    {
      "cell_type": "code",
      "metadata": {
        "id": "5ZjjfGSUwpDh",
        "colab_type": "code",
        "colab": {}
      },
      "source": [
        "# merge1['Country'][0]"
      ],
      "execution_count": 0,
      "outputs": []
    },
    {
      "cell_type": "code",
      "metadata": {
        "id": "UaglFt9TwPlJ",
        "colab_type": "code",
        "colab": {}
      },
      "source": [
        "# merge1.head()"
      ],
      "execution_count": 0,
      "outputs": []
    },
    {
      "cell_type": "code",
      "metadata": {
        "id": "IQdVEMj1oa2v",
        "colab_type": "code",
        "colab": {}
      },
      "source": [
        "# import folium"
      ],
      "execution_count": 0,
      "outputs": []
    },
    {
      "cell_type": "code",
      "metadata": {
        "id": "mMPJRTxIhCfT",
        "colab_type": "code",
        "colab": {}
      },
      "source": [
        "# url = 'https://raw.githubusercontent.com/python-visualization/folium/master/examples/data'\n",
        "# state_geo = f'{url}/world-countries.json'\n",
        "\n",
        "\n",
        "# m = folium.Map(location=[48, -102], zoom_start=2)\n",
        "\n",
        "# folium.Choropleth(\n",
        "#     geo_data=state_geo,\n",
        "#     name='choropleth',\n",
        "#     data=merge1,\n",
        "#     columns=['Country', 'Pay'],\n",
        "#     key_on='feature.id',\n",
        "#     fill_color='YlGn',\n",
        "#     fill_opacity=0.7,\n",
        "#     line_opacity=0.2,\n",
        "#     legend_name='Pay'\n",
        "\n",
        "# ).add_to(m)\n",
        "\n",
        "# folium.LayerControl().add_to(m)\n",
        "\n",
        "# m"
      ],
      "execution_count": 0,
      "outputs": []
    },
    {
      "cell_type": "code",
      "metadata": {
        "id": "J7mQupRYIN2l",
        "colab_type": "code",
        "colab": {}
      },
      "source": [
        "merge.groupby('Sport')['Pay'].sum().sort_values(ascending=False)"
      ],
      "execution_count": 0,
      "outputs": []
    },
    {
      "cell_type": "code",
      "metadata": {
        "id": "GOtf62IBz2bE",
        "colab_type": "code",
        "colab": {}
      },
      "source": [
        ""
      ],
      "execution_count": 0,
      "outputs": []
    },
    {
      "cell_type": "code",
      "metadata": {
        "id": "yI-dGwh3s_f9",
        "colab_type": "code",
        "colab": {}
      },
      "source": [
        "merge['Sport'].value_counts()"
      ],
      "execution_count": 0,
      "outputs": []
    },
    {
      "cell_type": "code",
      "metadata": {
        "id": "ldT-2eh1NWWg",
        "colab_type": "code",
        "colab": {}
      },
      "source": [
        "merge.groupby('Sport')['Pay'].sum().sort_values(ascending=False)"
      ],
      "execution_count": 0,
      "outputs": []
    },
    {
      "cell_type": "code",
      "metadata": {
        "id": "uiOR-4LuUSdF",
        "colab_type": "code",
        "colab": {}
      },
      "source": [
        ""
      ],
      "execution_count": 0,
      "outputs": []
    }
  ]
}